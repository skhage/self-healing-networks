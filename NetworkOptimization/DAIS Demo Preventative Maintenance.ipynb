{
 "cells": [
  {
   "cell_type": "code",
   "execution_count": 0,
   "metadata": {
    "application/vnd.databricks.v1+cell": {
     "cellMetadata": {
      "byteLimit": 2048000,
      "rowLimit": 10000
     },
     "inputWidgets": {},
     "nuid": "780e795b-6220-4ae0-ae7f-d4dd69de1c10",
     "showTitle": false,
     "tableResultSettingsMap": {},
     "title": ""
    }
   },
   "outputs": [],
   "source": [
    "%pip install -U -qqqq mlflow-skinny langchain==0.2.16 langgraph-checkpoint==1.0.12 langchain_core langchain-community==0.2.16 langgraph==0.2.16 pydantic langchain_databricks faker unitycatalog-ai[databricks] unitycatalog-langchain[databricks] \n",
    "\n",
    "dbutils.library.restartPython()"
   ]
  },
  {
   "cell_type": "code",
   "execution_count": 0,
   "metadata": {
    "application/vnd.databricks.v1+cell": {
     "cellMetadata": {
      "byteLimit": 2048000,
      "rowLimit": 10000
     },
     "inputWidgets": {},
     "nuid": "b6a5aee1-a2f1-4616-875a-d2cb45925948",
     "showTitle": false,
     "tableResultSettingsMap": {},
     "title": ""
    }
   },
   "outputs": [],
   "source": [
    "import yaml\n",
    "\n",
    "with open('params.yml', 'r') as file:\n",
    "    params = yaml.safe_load(file)"
   ]
  },
  {
   "cell_type": "code",
   "execution_count": 0,
   "metadata": {
    "application/vnd.databricks.v1+cell": {
     "cellMetadata": {
      "byteLimit": 2048000,
      "rowLimit": 10000
     },
     "inputWidgets": {},
     "nuid": "3b8f288d-ccd2-4766-8834-b5d05b412e08",
     "showTitle": false,
     "tableResultSettingsMap": {},
     "title": ""
    }
   },
   "outputs": [],
   "source": [
    "# from pyspark.sql.functions import col, sqrt, pow, current_date\n",
    "# from unitycatalog.ai.core.databricks import DatabricksFunctionClient\n",
    "# from typing import Dict\n",
    "\n",
    "# client = DatabricksFunctionClient()\n",
    "\n",
    "data_params = params.get('data_params')\n",
    "\n",
    "CATALOG = data_params.get('catalog')\n",
    "SCHEMA = data_params.get('schema')\n"
   ]
  },
  {
   "cell_type": "code",
   "execution_count": 0,
   "metadata": {
    "application/vnd.databricks.v1+cell": {
     "cellMetadata": {
      "byteLimit": 2048000,
      "rowLimit": 10000
     },
     "inputWidgets": {},
     "nuid": "d78dcdfc-a224-4eb8-bad3-aa56dec2d901",
     "showTitle": false,
     "tableResultSettingsMap": {},
     "title": ""
    }
   },
   "outputs": [],
   "source": []
  },
  {
   "cell_type": "code",
   "execution_count": 0,
   "metadata": {
    "application/vnd.databricks.v1+cell": {
     "cellMetadata": {
      "byteLimit": 2048000,
      "implicitDf": true,
      "rowLimit": 10000
     },
     "inputWidgets": {},
     "nuid": "997d99fd-8b00-4108-9e33-80c432f1b6cf",
     "showTitle": false,
     "tableResultSettingsMap": {},
     "title": ""
    }
   },
   "outputs": [],
   "source": [
    "%sql\n",
    "create or replace function ${data_params.get('catalog')}.${data_params.get('schema')}.get_tower_location(tower_id STRING)\n",
    "RETURNS TABLE (lat DOUBLE, lon DOUBLE)\n",
    "RETURN SELECT lat, lon FROM ${data_params.get('catalog')}.${data_params.get('schema')}.sf_towers WHERE towerid = tower_id"
   ]
  },
  {
   "cell_type": "code",
   "execution_count": 0,
   "metadata": {
    "application/vnd.databricks.v1+cell": {
     "cellMetadata": {
      "byteLimit": 2048000,
      "implicitDf": true,
      "rowLimit": 10000
     },
     "inputWidgets": {},
     "nuid": "20b479bc-2608-4eb6-9188-6dd2e1e1a433",
     "showTitle": false,
     "tableResultSettingsMap": {},
     "title": ""
    }
   },
   "outputs": [],
   "source": [
    "%sql\n",
    "create or replace table telco_demos.self_healing_networks.devices (\n",
    "  device_name STRING,\n",
    "  device_type STRING,\n",
    "  man_location STRING,\n",
    "  last_updated TIMESTAMP\n",
    ");\n",
    "insert into telco_demos.self_healing_networks.devices (device_name, device_type, man_location, last_updated)\n",
    "values \n",
    "\n",
    "        ('Device1', '5G Installation', 'Volumes/telco_demos/self_healing_networks/device_mans/5G Installation Maintenance Solutions Brochure.pdf', current_timestamp()),\n",
    "        ('Device2', '5G Gateway 500G', 'Volumes/telco_demos/self_healing_networks/device_mans/5G-gateway-500G-User-manual.pdf', current_timestamp()),\n",
    "        ('Device3', '5G fwa02', 'Volumes/telco_demos/self_healing_networks/device_mans/5g-fwa02-product-quick-guide.pdf', current_timestamp()),\n",
    "        ('Device4', '5G Network', 'Volumes/telco_demos/self_healing_networks/device_mans/5g-network-installation-maintenance-solutions-brochures-en.pdf', current_timestamp()),\n",
    "        ('Device5', 'Cisco Aironet 2.4 GHz: 5 GHz MIMO 4 Element Patch Antenna', 'Volumes/telco_demos/self_healing_networks/device_mans/CiscoAironet-2.4-GHz:5-GHz-MIMO-4-Element-Patch-Antenna.pdf', current_timestamp()),\n",
    "        ('Device6', 'InHandNetwoks 5G ODU2000', 'Volumes/telco_demos/self_healing_networks/device_mans/InHandNetwoks 5G ODU2000 User Manual V1.1 202305.pdf', current_timestamp()),\n",
    "        ('Device7', 'InHandNetwoks ODU2002 Install', 'Volumes/telco_demos/self_healing_networks/device_mans/InHandNetwoks ODU2002 Quick Installation Guide V1.3 202305.pdf', current_timestamp()),\n",
    "        ('Device8', 'RxxxV3 NG-700800 Public Safety BDA Fiber DAS QE', 'Volumes/telco_demos/self_healing_networks/device_mans/User-Manual-RxxxV3-NG-700800-Public-Safety-BDA-Fiber-DAS-QE-1-0-2-.pdf', current_timestamp()),\n",
    "        ('Device9', 'Air 6449 Radio Description', 'Volumes/telco_demos/self_healing_networks/device_mans/air-6449-radio-description_compress.pdf', current_timestamp()),\n",
    "        ('Device10', 'ATT Internet Air', 'Volumes/telco_demos/self_healing_networks/device_mans/att-internet-air-en-ug-v5.pdf', current_timestamp());\n",
    "\n",
    "        -- OneAdvisor-800"
   ]
  },
  {
   "cell_type": "code",
   "execution_count": 0,
   "metadata": {
    "application/vnd.databricks.v1+cell": {
     "cellMetadata": {
      "byteLimit": 2048000,
      "implicitDf": true,
      "rowLimit": 10000
     },
     "inputWidgets": {},
     "nuid": "ed88dfb8-a078-4f30-9a96-0e479abfda67",
     "showTitle": false,
     "tableResultSettingsMap": {},
     "title": ""
    }
   },
   "outputs": [],
   "source": [
    "# tools required: OneAdvisor-800 which helps diagnose:\n",
    "# Fiber connections (using OTDR modules)\n",
    "# Cable and Antenna systems (using CAA modules)\n",
    "# Over-the-air testing (using spectrum analyzer modules)\n",
    "# RFoCPRI, PIM detection, and interference testing"
   ]
  },
  {
   "cell_type": "code",
   "execution_count": 0,
   "metadata": {
    "application/vnd.databricks.v1+cell": {
     "cellMetadata": {
      "byteLimit": 2048000,
      "implicitDf": true,
      "rowLimit": 10000
     },
     "inputWidgets": {},
     "nuid": "347f8114-8ba0-4460-b8b9-d20f1eef37a7",
     "showTitle": false,
     "tableResultSettingsMap": {},
     "title": ""
    }
   },
   "outputs": [],
   "source": [
    "%sql\n",
    "CREATE OR REPLACE FUNCTION telco_demos.self_healing_networks.get_nearest_fieldtech(tech_lat DOUBLE, tech_lon DOUBLE)\n",
    "RETURNS TABLE (name STRING, stop_number INT, date DATE, lat double, lon double, distance DOUBLE)\n",
    "return with fielddist as \n",
    "(SELECT *, SQRT(POW(lat - tech_lat, 2) + POW(lon - tech_lon, 2)) as distance \n",
    "FROM telco_demos.self_healing_networks.fieldtech_route \n",
    "WHERE date = current_date() and random_text <> 'not scheduled' )\n",
    "select name, stop_number, date, lat, lon, distance from fielddist where name = (select name from fielddist order by distance asc limit 1);\n"
   ]
  },
  {
   "cell_type": "code",
   "execution_count": 0,
   "metadata": {
    "application/vnd.databricks.v1+cell": {
     "cellMetadata": {
      "byteLimit": 2048000,
      "implicitDf": true,
      "rowLimit": 10000
     },
     "inputWidgets": {},
     "nuid": "15eebe69-a76a-4d86-90ea-d5030aef5ff8",
     "showTitle": false,
     "tableResultSettingsMap": {},
     "title": ""
    }
   },
   "outputs": [],
   "source": [
    "%sql\n",
    "select * from telco_demos.self_healing_networks.get_nearest_fieldtech(37.7749, -122.4194)"
   ]
  },
  {
   "cell_type": "code",
   "execution_count": 0,
   "metadata": {
    "application/vnd.databricks.v1+cell": {
     "cellMetadata": {
      "byteLimit": 2048000,
      "rowLimit": 10000
     },
     "inputWidgets": {},
     "nuid": "9ce7c77d-3bdc-41d2-a794-34ac3871cfa2",
     "showTitle": false,
     "tableResultSettingsMap": {},
     "title": ""
    }
   },
   "outputs": [],
   "source": [
    "\n",
    "result = client.create_python_function(\n",
    "  func=get_closest_fieldtech,\n",
    "  catalog=CATALOG,\n",
    "  schema=SCHEMA,\n",
    "  replace=True\n",
    ")\n",
    "\n",
    "# print(result)\n",
    "# Example usage\n",
    "lat, lon = 37.7749, -122.4194  # Example coordinates\n",
    "closest_fieldtech = get_closest_fieldtech(lat, lon)\n",
    "display(closest_fieldtech)"
   ]
  },
  {
   "cell_type": "code",
   "execution_count": 0,
   "metadata": {
    "application/vnd.databricks.v1+cell": {
     "cellMetadata": {
      "byteLimit": 2048000,
      "rowLimit": 10000
     },
     "inputWidgets": {},
     "nuid": "e52a6e76-9a35-42b6-b97f-8ab38caf5f27",
     "showTitle": false,
     "tableResultSettingsMap": {},
     "title": ""
    }
   },
   "outputs": [],
   "source": [
    "result = client.execute_function(\n",
    "    function_name=f\"{CATALOG}.{SCHEMA}.get_closest_fieldtech\",\n",
    "    parameters={\"lat\": 37.7749, \"lon\": -122.416}\n",
    ")\n",
    "# lat, lon = 37.7749, -122.4194  # Example coordinates\n",
    "\n",
    "print(result)  # Output: 45861.4 [2][4]\n"
   ]
  },
  {
   "cell_type": "code",
   "execution_count": 0,
   "metadata": {
    "application/vnd.databricks.v1+cell": {
     "cellMetadata": {
      "byteLimit": 2048000,
      "rowLimit": 10000
     },
     "inputWidgets": {},
     "nuid": "520ae709-4ef7-4ddb-9e57-673306cbece8",
     "showTitle": false,
     "tableResultSettingsMap": {},
     "title": ""
    }
   },
   "outputs": [],
   "source": [
    "import mlflow\n",
    "from mlflow.models import ModelConfig\n",
    "\n",
    "mlflow.langchain.autolog()\n",
    "config = ModelConfig(development_config=\"config.yml\")"
   ]
  },
  {
   "cell_type": "code",
   "execution_count": 0,
   "metadata": {
    "application/vnd.databricks.v1+cell": {
     "cellMetadata": {
      "byteLimit": 2048000,
      "rowLimit": 10000
     },
     "inputWidgets": {},
     "nuid": "70cc3026-8978-4f96-b477-c150675430dd",
     "showTitle": false,
     "tableResultSettingsMap": {},
     "title": ""
    }
   },
   "outputs": [],
   "source": [
    "from langchain_community.chat_models import ChatDatabricks\n",
    "from langchain_community.tools.databricks import UCFunctionToolkit\n",
    "from databricks.sdk import WorkspaceClient\n",
    "\n",
    "# Create the llm\n",
    "llm = ChatDatabricks(endpoint=config.get(\"llm_endpoint\"))"
   ]
  },
  {
   "cell_type": "code",
   "execution_count": 0,
   "metadata": {
    "application/vnd.databricks.v1+cell": {
     "cellMetadata": {
      "byteLimit": 2048000,
      "rowLimit": 10000
     },
     "inputWidgets": {},
     "nuid": "bacc7893-4e45-419d-8de1-05264acfdd07",
     "showTitle": false,
     "tableResultSettingsMap": {},
     "title": ""
    }
   },
   "outputs": [],
   "source": [
    "llm.invoke(f\"You are a mobile provider support agent reaching out to field technician named {FIELDTECH} to resolve an issue. The telemetry says {TELEMETRY} which can cause an outage for {DEVICEFAILURE}. If the network suffers an outage that would impact up to {IMPACT} people. The documentation says the solution is {RESOLUTION}. Please communicate this to {FIELDTECH}.\")"
   ]
  },
  {
   "cell_type": "code",
   "execution_count": 0,
   "metadata": {
    "application/vnd.databricks.v1+cell": {
     "cellMetadata": {
      "byteLimit": 2048000,
      "rowLimit": 10000
     },
     "inputWidgets": {},
     "nuid": "bbda6573-8f78-4be9-8c7a-1ae8d0158866",
     "showTitle": false,
     "tableResultSettingsMap": {},
     "title": ""
    }
   },
   "outputs": [],
   "source": [
    "\n",
    "#     mobilelocations = mobilelocations.withColumn(col, mobilelocations[col].alias(col).comment(comment))\n",
    "# <radio>\tstring\tNetwork type. One of the strings GSM, UMTS, LTE or CDMA.\n",
    "# <mcc>\tinteger\tMobile Country Code, for example 260 for Poland.\n",
    "# <net>\tinteger\tFor GSM, UMTS and LTE networks, this is the Mobile Network Code (MNC).\n",
    "# For CDMA networks, this is the System IDentification number (SID).\n",
    "# <area>\tinteger\tLocation Area Code (LAC) for GSM and UMTS networks.\n",
    "# Tracking Area Code (TAC) for LTE networks.\n",
    "# Network IDenfitication number (NID) for CDMA networks.\n",
    "# <cell>\tinteger\tCell ID (CID) for GSM and LTE networks.\n",
    "# UTRAN Cell ID / LCID for UMTS networks, which is the concatenation of 2 or 4 bytes of Radio Network Controller (RNC) code and 4 bytes of Cell ID.\n",
    "# Base station IDentifier number (BID) for CDMA networks.\n",
    "# <unit>\tinteger\tPrimary Scrambling Code (PSC) for UMTS networks.\n",
    "# Physical Cell ID (PCI) for LTE networks. An empty value for GSM and CDMA networks.\n",
    "# <lon>\tdouble\tLongitude in degrees between -180.0 and 180.0\n",
    "# changeable=1: average of longitude values of all related measurements\n",
    "# changeable=0: exact GPS position of the cell tower\n",
    "# <lat>\tdouble\tLatitude in degrees between -90.0 and 90.0\n",
    "# changeable=1: average of latitude values of all related measurements\n",
    "# changeable=0: exact GPS position of the tower\n",
    "# <range>\tinteger\tEstimate of cell range, in meters.\n",
    "# <samples>\tinteger\tTotal number of measurements assigned to the cell tower\n",
    "# <changeable>\tinteger\tDefines if coordinates of the cell tower are exact or approximate.\n",
    "# changeable=1: the GPS position of the cell tower has been calculated from all available measurements\n",
    "# changeable=0: the GPS position of the cell tower is precise - no measurements have been used to calculate it.\n",
    "# <created>\tinteger\tThe first time when the cell tower was seen and added to the OpenCellID database.\n",
    "# A date in timestamp format:\n",
    "# number of seconds since the UTC Unix Epoch of 1970-01-01T00:00:00Z\n",
    "# For example 1409522613 is the timestamp for 2014-08-31T22:03:33Z.\n",
    "# <updated>\tinteger\tThe last time when the cell tower was seen and update.\n",
    "# A date in timestamp format:\n",
    "# number of seconds since the UTC Unix Epoch of 1970-01-01T00:00:00Z\n",
    "# For example 1409522613 is the timestamp for 2014-08-31T22:03:33Z.\n",
    "# <averageSignal>"
   ]
  },
  {
   "cell_type": "code",
   "execution_count": 0,
   "metadata": {
    "application/vnd.databricks.v1+cell": {
     "cellMetadata": {
      "byteLimit": 2048000,
      "rowLimit": 10000
     },
     "inputWidgets": {},
     "nuid": "1aa51ee3-539c-42bd-942c-0e01058cf9b8",
     "showTitle": false,
     "tableResultSettingsMap": {},
     "title": ""
    }
   },
   "outputs": [],
   "source": [
    "from pyspark.sql.functions import col, from_unixtime\n",
    "\n",
    "mobilelocations = spark.table(\"telco_demos.self_healing_networks.mobilelocations\") \\\n",
    "    .withColumn(\"created\", from_unixtime(col(\"created\")).cast(\"timestamp\")) \\\n",
    "    .withColumn(\"updated\", from_unixtime(col(\"updated\")).cast(\"timestamp\"))\n",
    "\n",
    "display(mobilelocations)"
   ]
  },
  {
   "cell_type": "code",
   "execution_count": 0,
   "metadata": {
    "application/vnd.databricks.v1+cell": {
     "cellMetadata": {
      "byteLimit": 2048000,
      "rowLimit": 10000
     },
     "inputWidgets": {},
     "nuid": "a99573d9-41ad-4be4-86bf-48a4effb3de7",
     "showTitle": false,
     "tableResultSettingsMap": {},
     "title": ""
    }
   },
   "outputs": [
    {
     "output_type": "display_data",
     "data": {
      "text/plain": [
       "Databricks visualization. Run in Databricks to view."
      ]
     },
     "metadata": {
      "application/vnd.databricks.v1.subcommand+json": {
       "baseErrorDetails": null,
       "bindings": {},
       "collapsed": false,
       "command": "from pyspark.sql.functions import monotonically_increasing_id, row_number\nfrom pyspark.sql.window import Window\n\nsf_sampled = sf_mobilelocations.orderBy(monotonically_increasing_id()).limit(10)\nwindowSpec = Window.orderBy(monotonically_increasing_id())\nsf_sampled = sf_sampled.withColumn(\"device_x\", row_number().over(windowSpec))\n\ndisplay(sf_sampled)",
       "commandTitle": "Visualization 1",
       "commandType": "auto",
       "commandVersion": 0,
       "commentThread": [],
       "commentsVisible": false,
       "contentSha256Hex": null,
       "customPlotOptions": {
        "redashChart": [
         {
          "key": "type",
          "value": "MAP"
         },
         {
          "key": "options",
          "value": {
           "backgroundColor": "#356AFF",
           "borderColor": "#356AFF",
           "bounds": null,
           "clusterMarkers": false,
           "customizeMarkers": false,
           "foregroundColor": "#ffffff",
           "groups": {},
           "iconFont": "circle",
           "iconShape": "marker",
           "latColName": "lat",
           "lonColName": "lon",
           "mapTileUrl": "//{s}.tile.openstreetmap.org/{z}/{x}/{y}.png",
           "popup": {
            "enabled": true,
            "template": ""
           },
           "tooltip": {
            "enabled": false,
            "template": ""
           }
          }
         }
        ]
       },
       "datasetPreviewNameToCmdIdMap": {},
       "diffDeletes": [],
       "diffInserts": [],
       "displayType": "redashChart",
       "error": null,
       "errorDetails": null,
       "errorSummary": null,
       "errorTraceType": null,
       "finishTime": 0,
       "globalVars": {},
       "guid": "",
       "height": "auto",
       "hideCommandCode": false,
       "hideCommandResult": false,
       "iPythonMetadata": null,
       "inputWidgets": {},
       "isLockedInExamMode": false,
       "latestUser": "a user",
       "latestUserId": null,
       "listResultMetadata": null,
       "metadata": {},
       "nuid": "4a9f9e90-55ae-4de4-9c30-c6680121e49a",
       "origId": 0,
       "parentHierarchy": [],
       "pivotAggregation": null,
       "pivotColumns": null,
       "position": 14.0,
       "resultDbfsErrorMessage": null,
       "resultDbfsStatus": "INLINED_IN_TREE",
       "results": null,
       "showCommandTitle": false,
       "startTime": 0,
       "state": "input",
       "streamStates": {},
       "subcommandOptions": {},
       "submitTime": 0,
       "subtype": "tableResultSubCmd.visualization",
       "tableResultIndex": 0,
       "tableResultSettingsMap": {},
       "useConsistentColors": false,
       "version": "CommandV1",
       "width": "auto",
       "workflows": null,
       "xColumns": null,
       "yColumns": null
      }
     },
     "output_type": "display_data"
    }
   ],
   "source": [
    "from pyspark.sql.functions import monotonically_increasing_id, row_number\n",
    "from pyspark.sql.window import Window\n",
    "\n",
    "sf_sampled = sf_mobilelocations.orderBy(monotonically_increasing_id()).limit(10)\n",
    "windowSpec = Window.orderBy(monotonically_increasing_id())\n",
    "sf_sampled = sf_sampled.withColumn(\"deviceID\", row_number().over(windowSpec))\n",
    "sf_sampled.write.saveAsTable(\"telco_demos.self_healing_networks.sf_towers\")\n",
    "display(sf_sampled)"
   ]
  },
  {
   "cell_type": "code",
   "execution_count": 0,
   "metadata": {
    "application/vnd.databricks.v1+cell": {
     "cellMetadata": {
      "byteLimit": 2048000,
      "rowLimit": 10000
     },
     "inputWidgets": {},
     "nuid": "6fbd548a-235e-4df7-a4df-71745db5f190",
     "showTitle": false,
     "tableResultSettingsMap": {},
     "title": ""
    }
   },
   "outputs": [],
   "source": [
    "sf_mobilelocations = spark.table(\"telco_demos.self_healing_networks.sf_towers\")\n",
    "sf_mobilelocations.display()"
   ]
  },
  {
   "cell_type": "code",
   "execution_count": 0,
   "metadata": {
    "application/vnd.databricks.v1+cell": {
     "cellMetadata": {},
     "inputWidgets": {},
     "nuid": "ee68cf89-d850-4a0a-a2a5-c49d32098fb0",
     "showTitle": false,
     "tableResultSettingsMap": {},
     "title": ""
    }
   },
   "outputs": [],
   "source": []
  },
  {
   "cell_type": "code",
   "execution_count": 0,
   "metadata": {
    "application/vnd.databricks.v1+cell": {
     "cellMetadata": {
      "byteLimit": 2048000,
      "rowLimit": 10000
     },
     "inputWidgets": {},
     "nuid": "d48fef17-817a-45d8-b201-3d8e453cd180",
     "showTitle": false,
     "tableResultSettingsMap": {},
     "title": ""
    }
   },
   "outputs": [],
   "source": [
    "from pyspark.sql.functions import expr\n",
    "\n",
    "sf_mobilelocations_with_id = sf_mobilelocations.withColumn(\"towerid\", expr(\"uuid()\"))\n",
    "sf_mobilelocations_with_id.write.mode('overwrite').option('mergeSchema', 'true').saveAsTable(\"telco_demos.self_healing_networks.sf_towers\")"
   ]
  },
  {
   "cell_type": "code",
   "execution_count": 0,
   "metadata": {
    "application/vnd.databricks.v1+cell": {
     "cellMetadata": {
      "byteLimit": 2048000,
      "implicitDf": true,
      "rowLimit": 10000
     },
     "inputWidgets": {},
     "nuid": "6a049d0e-3d15-45f8-beb3-7613f2b0f6b6",
     "showTitle": false,
     "tableResultSettingsMap": {},
     "title": ""
    }
   },
   "outputs": [],
   "source": [
    "from yaml import safe_load\n",
    "with open('scenarios.yml', 'r') as scenarios:\n",
    "    scenarios_data = safe_load(scenarios)"
   ]
  },
  {
   "cell_type": "code",
   "execution_count": 0,
   "metadata": {
    "application/vnd.databricks.v1+cell": {
     "cellMetadata": {
      "byteLimit": 2048000,
      "implicitDf": true,
      "rowLimit": 10000
     },
     "inputWidgets": {},
     "nuid": "94adcc05-ef6e-4896-a04e-e4c84ef1fa1d",
     "showTitle": false,
     "tableResultSettingsMap": {},
     "title": ""
    }
   },
   "outputs": [],
   "source": [
    "%sql\n",
    "drop table if exists telco_demos.self_healing_networks.scenarios"
   ]
  },
  {
   "cell_type": "code",
   "execution_count": 0,
   "metadata": {
    "application/vnd.databricks.v1+cell": {
     "cellMetadata": {
      "byteLimit": 2048000,
      "rowLimit": 10000
     },
     "inputWidgets": {},
     "nuid": "35f3764b-bd22-4020-8e96-f4a999cbbdf7",
     "showTitle": false,
     "tableResultSettingsMap": {},
     "title": ""
    }
   },
   "outputs": [],
   "source": [
    "scens = spark.createDataFrame(scenarios_data['prompts']).withColumnRenamed('_1', 'scenario')\n",
    "scens.write.mode('overwrite').option('mergeSchema', 'true').saveAsTable(\"telco_demos.self_healing_networks.scenarios\")\n",
    "# .write.mode('overwrite').option('mergeSchema', 'true').saveAsTable(\"telco_demos.self_healing_networks.scenarios\")"
   ]
  },
  {
   "cell_type": "code",
   "execution_count": 0,
   "metadata": {
    "application/vnd.databricks.v1+cell": {
     "cellMetadata": {
      "byteLimit": 2048000,
      "implicitDf": true,
      "rowLimit": 10000
     },
     "inputWidgets": {},
     "nuid": "3c5a0ec1-c7c1-4035-bbc6-c8c97e660416",
     "showTitle": false,
     "tableResultSettingsMap": {},
     "title": ""
    }
   },
   "outputs": [],
   "source": [
    "%sql\n",
    "create or replace function telco_demos.self_healing_networks.get_scenario()\n",
    "RETURNS STRING\n",
    "RETURN select scenario from telco_demos.self_healing_networks.scenarios order by rand() limit 1"
   ]
  },
  {
   "cell_type": "code",
   "execution_count": 0,
   "metadata": {
    "application/vnd.databricks.v1+cell": {
     "cellMetadata": {
      "byteLimit": 2048000,
      "implicitDf": true,
      "rowLimit": 10000
     },
     "inputWidgets": {},
     "nuid": "a7904ba1-9ac3-4d84-b637-fa786ac562bc",
     "showTitle": false,
     "tableResultSettingsMap": {},
     "title": ""
    }
   },
   "outputs": [],
   "source": [
    "%sql\n",
    "select telco_demos.self_healing_networks.get_scenario()"
   ]
  },
  {
   "cell_type": "markdown",
   "metadata": {
    "application/vnd.databricks.v1+cell": {
     "cellMetadata": {},
     "inputWidgets": {},
     "nuid": "365c132c-c62d-4833-a5c4-d952b34aa9cb",
     "showTitle": false,
     "tableResultSettingsMap": {},
     "title": ""
    }
   },
   "source": [
    "For Keerthi\n",
    "Scenario should contain a device and telemetry to indicate a failure\n",
    "\n",
    "Goal: \n",
    "This should retrieve the information to fix the issue from the VS\n",
    "\n",
    "\n"
   ]
  },
  {
   "cell_type": "code",
   "execution_count": 0,
   "metadata": {
    "application/vnd.databricks.v1+cell": {
     "cellMetadata": {
      "byteLimit": 2048000,
      "rowLimit": 10000
     },
     "inputWidgets": {},
     "nuid": "dcef8893-53bc-4a43-8f46-b93f5efa4cb3",
     "showTitle": false,
     "tableResultSettingsMap": {},
     "title": ""
    }
   },
   "outputs": [],
   "source": [
    "%pip install -U -qqqq databricks-agents mlflow langchain==0.2.16 langgraph-checkpoint==1.0.12  langchain_core langchain-community==0.2.16 langgraph==0.2.16 pydantic unitycatalog-ai[databricks] unitycatalog-langchain[databricks] langchain_databricks\n",
    "\n",
    "dbutils.library.restartPython()"
   ]
  },
  {
   "cell_type": "code",
   "execution_count": 0,
   "metadata": {
    "application/vnd.databricks.v1+cell": {
     "cellMetadata": {
      "byteLimit": 2048000,
      "rowLimit": 10000
     },
     "inputWidgets": {},
     "nuid": "40a1f5af-116e-4b18-91df-571bf8b7dfc6",
     "showTitle": false,
     "tableResultSettingsMap": {},
     "title": ""
    }
   },
   "outputs": [],
   "source": [
    "from databricks.agents.evals import generate_evals_df\n",
    "from pyspark.sql.functions import concat, lit, col, monotonically_increasing_id\n",
    "\n",
    "# Load in scripts and get a random sample to generate mock examples\n",
    "\n",
    "device_mans = spark.table('telco_demos.self_healing_networks.device_manuals_chunked_docs').select(col('content_chunked').alias('content'), col('doc_uri'))\n",
    "display(device_mans)"
   ]
  },
  {
   "cell_type": "code",
   "execution_count": 0,
   "metadata": {
    "application/vnd.databricks.v1+cell": {
     "cellMetadata": {
      "byteLimit": 2048000,
      "rowLimit": 10000
     },
     "inputWidgets": {},
     "nuid": "51f2f6ba-f485-43dd-b99a-2f68e9542c72",
     "showTitle": false,
     "tableResultSettingsMap": {},
     "title": ""
    }
   },
   "outputs": [],
   "source": [
    "# Define the synthetic data generation\n",
    "\n",
    "question_guidelines = \"\"\"\n",
    "# User Persona\n",
    "- A mobile service provider field technician who finds device failures and is looking at the device manual for a fix\n",
    "- An engineer who is designing protocols for preventative maintenance and faster device repair for better network uptime\n",
    "\n",
    "# Example statements\n",
    "- Dirty fiber connectors or end-faces can cause signal impairment. Use a fiber microscope to inspect end-faces. Tools like VIAVI P5000i and Fiberchek probe integrate with OneAdvisor-800 to inspect and certify that connections are clean.\n",
    "- Antenna alignment can prevent RF coverage from meeting design requirements; the RF Vision tool can help you accurately perform antenna alignment.\n",
    "- Oscillation Gain Reduction or Shutdown Alarms do not clear themselves and require manual reset and troubleshooting of the underlying issue\n",
    "- Common Baseband Connection Problems include improper port pairing (ports must be connected in pairs: 1-2, 3-4), mixed mode within port pairs not supported, connection issues between LTE and NR baseband units, and eCPRI interface failures (25 Gbps connection)\n",
    "\n",
    "# Additional Guidelines\n",
    "- Statement should be succinct with the goal of expediting the field technician's work.\n",
    "- The question should be generic, use the documents as a generalized framework to ask questions about maintenance and repairs.\n",
    "- Don't talk about installations or make references to calling a vendor's sales rep.\n",
    "- The question should be written in the first person\n",
    "\"\"\"\n",
    "\n",
    "agent_description = \"\"\"\n",
    "The Agent is generating error messages for something that has gone wrong with a mobile service provider's tower devices. The primary job is to identify what telemetry might indicate device failure and what steps need to be taken to diagnose and make the repair. \n",
    "\"\"\"\n",
    "\n",
    "eval_df = generate_evals_df(docs=device_mans, num_evals=45, agent_description=agent_description, question_guidelines=question_guidelines)\n",
    "display(eval_df)"
   ]
  },
  {
   "cell_type": "code",
   "execution_count": 0,
   "metadata": {
    "application/vnd.databricks.v1+cell": {
     "cellMetadata": {
      "byteLimit": 2048000,
      "rowLimit": 10000
     },
     "inputWidgets": {},
     "nuid": "db3456c1-b70e-4ae0-8478-d495cd3873ce",
     "showTitle": false,
     "tableResultSettingsMap": {},
     "title": ""
    }
   },
   "outputs": [],
   "source": [
    "# from pyspark.sql.functions import concat_ws\n",
    "\n",
    "# spark.createDataFrame(eval_df).select(concat_ws(', ', 'expected_retrieved_context.content').alias('content')).display()\n",
    "\n",
    "eval_df.display()"
   ]
  },
  {
   "cell_type": "code",
   "execution_count": 0,
   "metadata": {
    "application/vnd.databricks.v1+cell": {
     "cellMetadata": {
      "byteLimit": 2048000,
      "implicitDf": true,
      "rowLimit": 10000
     },
     "inputWidgets": {},
     "nuid": "21edd805-cdc3-479f-93cb-2fdcdc8f8598",
     "showTitle": false,
     "tableResultSettingsMap": {},
     "title": ""
    }
   },
   "outputs": [],
   "source": [
    "%sql\n",
    "drop table if exists telco_demos.self_healing_networks.review_app_dataset"
   ]
  },
  {
   "cell_type": "code",
   "execution_count": 0,
   "metadata": {
    "application/vnd.databricks.v1+cell": {
     "cellMetadata": {
      "byteLimit": 2048000,
      "rowLimit": 10000
     },
     "inputWidgets": {},
     "nuid": "1808d3c9-c667-44a3-9c7f-2222141f4f52",
     "showTitle": false,
     "tableResultSettingsMap": {},
     "title": ""
    }
   },
   "outputs": [],
   "source": [
    "import mlflow\n",
    "from mlflow.deployments import get_deploy_client\n",
    "from databricks.agents import datasets\n",
    "\n",
    "agent_endpoint = 'databricks-claude-sonnet-4'\n",
    "\n",
    "guidelines = [\n",
    "    'The retrieved content from the vendor documents must be contextually relevant to the user request.',\n",
    "    'The retrieved content must be relevant to conducting device maintenance, diagnostics and repair.',\n",
    "    'Avoid any talk about weapons or anything that might trigger a guardrail.'\n",
    "]\n",
    "\n",
    "request_list = [\n",
    "    cont['messages'][0]['content'] for cont in eval_df[\"request\"].tolist()\n",
    "]\n",
    "\n",
    "client = get_deploy_client()\n",
    "endpoint = agent_endpoint\n",
    "agent_output_list = []\n"
   ]
  },
  {
   "cell_type": "code",
   "execution_count": 0,
   "metadata": {
    "application/vnd.databricks.v1+cell": {
     "cellMetadata": {
      "byteLimit": 2048000,
      "rowLimit": 10000
     },
     "inputWidgets": {},
     "nuid": "e57cd342-6d2c-4ecd-955e-2ae9c5fc504e",
     "showTitle": false,
     "tableResultSettingsMap": {},
     "title": ""
    }
   },
   "outputs": [],
   "source": [
    "# try:\n",
    "#     print(request_list[0])\n",
    "#     test_question = request_list[0]  # \"How do I perform a factory reset on the device?\"\n",
    "#     response = client.predict(endpoint=endpoint, inputs={'messages': [{'role': 'user', 'content': test_question}]})\n",
    "#     print(response['choices'][0]['message']['content'])\n",
    "# except Exception as e:\n",
    "#     print(\"An error occurred while processing the request.\")\n",
    "# client.predict(endpoint=endpoint, inputs={'messages': [{'role': 'user', 'content': request_list[0]}]})\n",
    "for request in request_list:\n",
    "    try:\n",
    "        output = client.predict(\n",
    "            endpoint=endpoint,\n",
    "            inputs={\"messages\": [{\"role\": \"user\", \"content\": request}]}\n",
    "        )\n",
    "        agent_output_list.append({\n",
    "            \"request\": request,\n",
    "            \"response\": output['choices'][0]['message']['content']\n",
    "        })\n",
    "    except Exception as e:\n",
    "        continue\n",
    "\n",
    "evals = [{\n",
    "    \"request\": output['request'],\n",
    "    \"response\": output['response'],\n",
    "    \"guidelines\": guidelines\n",
    "} for output in agent_output_list]\n",
    "\n",
    "uc_eval_dataset = 'telco_demos.self_healing_networks.review_app_dataset'\n",
    "dataset = datasets.create_dataset(uc_eval_dataset)\n",
    "evals_app = [{\n",
    "    \"request\": {'messages': [{\"role\": \"user\", \"content\": output['request']}]},\n",
    "    \"guidelines\": guidelines\n",
    "} for output in agent_output_list]\n",
    "\n",
    "dataset.insert(evals_app)"
   ]
  },
  {
   "cell_type": "code",
   "execution_count": 0,
   "metadata": {
    "application/vnd.databricks.v1+cell": {
     "cellMetadata": {
      "byteLimit": 2048000,
      "rowLimit": 10000
     },
     "inputWidgets": {},
     "nuid": "f31db1ff-4189-48a0-8c24-43cf106d4a70",
     "showTitle": false,
     "tableResultSettingsMap": {},
     "title": ""
    }
   },
   "outputs": [],
   "source": [
    "mlflow.langchain.autolog()\n",
    "with mlflow.start_run(run_name=\"Field-Tech-Instruction\"):\n",
    "    eval_results = mlflow.evaluate(\n",
    "        data=evals,\n",
    "        model_type=\"databricks-agent\",\n",
    "        # extra_metrics= [script_fit_custom_metric], # Leverage defined custom metric\n",
    "        evaluator_config={\n",
    "            'databricks-agent': {\n",
    "                \"metrics\": [\n",
    "                \"guideline_adherence\", # Run the global guidelines defined in `guideliness'\n",
    "                \"relevance_to_query\", # Check if the LLM's response is relevant to the user's query\n",
    "                # \"groundedness\", # Capture hallucinations\n",
    "\n",
    "                ]\n",
    "            }\n",
    "        }\n",
    "    )\n",
    "    display(eval_results.tables['eval_results'])"
   ]
  },
  {
   "cell_type": "code",
   "execution_count": 0,
   "metadata": {
    "application/vnd.databricks.v1+cell": {
     "cellMetadata": {
      "byteLimit": 2048000,
      "rowLimit": 10000
     },
     "inputWidgets": {},
     "nuid": "64baaa32-8933-4b55-868c-2b4a5d33b6b7",
     "showTitle": false,
     "tableResultSettingsMap": {},
     "title": ""
    }
   },
   "outputs": [],
   "source": [
    "from databricks import agents\n",
    "\n",
    "model_name = \"telco_demos.self_healing_networks.field_tech_deployment_agent\" # Change to a different model name if desired\n",
    "uc_registered_model_info = mlflow.register_model(model_uri=logged_agent_info.model_uri, name=model_name)\n",
    "# UC_MODEL_NAME = f\"{catalog_name}.{schema_name}.{model_name}\"\n",
    "agents.deploy(model_name, uc_registered_model_info.version, tags = {\"endpointSource\": \"playground\"})"
   ]
  },
  {
   "cell_type": "code",
   "execution_count": 0,
   "metadata": {
    "application/vnd.databricks.v1+cell": {
     "cellMetadata": {
      "byteLimit": 2048000,
      "rowLimit": 10000
     },
     "inputWidgets": {},
     "nuid": "34e617a2-d510-432a-b007-bd331faec279",
     "showTitle": false,
     "tableResultSettingsMap": {},
     "title": ""
    }
   },
   "outputs": [],
   "source": [
    "my_app = agents.review_app.get_review_app()\n",
    "my_app.add_agent(agent_name = 'databricks-agent',\n",
    "                 model_serving_endpoint='databricks-claude-sonnet-4')"
   ]
  },
  {
   "cell_type": "code",
   "execution_count": 0,
   "metadata": {
    "application/vnd.databricks.v1+cell": {
     "cellMetadata": {
      "byteLimit": 2048000,
      "rowLimit": 10000
     },
     "inputWidgets": {},
     "nuid": "b6b8794e-54c8-40c9-b1e2-5041e9bf5841",
     "showTitle": false,
     "tableResultSettingsMap": {},
     "title": ""
    }
   },
   "outputs": [],
   "source": [
    "from databricks.agents import review_app\n",
    "\n",
    "my_app = review_app.get_review_app()\n",
    "my_app.add_agent(agent_name = 'databricks-agent',\n",
    "                 model_serving_endpoint='databricks-claude-sonnet-4')"
   ]
  },
  {
   "cell_type": "code",
   "execution_count": 0,
   "metadata": {
    "application/vnd.databricks.v1+cell": {
     "cellMetadata": {
      "byteLimit": 2048000,
      "rowLimit": 10000
     },
     "inputWidgets": {},
     "nuid": "5da4a4fd-e2ce-45d1-8fd8-99b2a063493d",
     "showTitle": false,
     "tableResultSettingsMap": {},
     "title": ""
    }
   },
   "outputs": [],
   "source": [
    "print(my_app.url + \"/chat\") "
   ]
  },
  {
   "cell_type": "code",
   "execution_count": 0,
   "metadata": {
    "application/vnd.databricks.v1+cell": {
     "cellMetadata": {
      "byteLimit": 2048000,
      "rowLimit": 10000
     },
     "inputWidgets": {},
     "nuid": "cadddc91-655a-4c25-aadb-793bd60e0427",
     "showTitle": false,
     "tableResultSettingsMap": {},
     "title": ""
    }
   },
   "outputs": [],
   "source": [
    "mlflow.set_experiment(\"Field-Tech-Instruction\")\n"
   ]
  },
  {
   "cell_type": "code",
   "execution_count": 0,
   "metadata": {
    "application/vnd.databricks.v1+cell": {
     "cellMetadata": {},
     "inputWidgets": {},
     "nuid": "fa1b33b6-0519-4e10-88f4-c8c5e586f8ff",
     "showTitle": false,
     "tableResultSettingsMap": {},
     "title": ""
    }
   },
   "outputs": [],
   "source": []
  }
 ],
 "metadata": {
  "application/vnd.databricks.v1+notebook": {
   "computePreferences": null,
   "dashboards": [],
   "environmentMetadata": {
    "base_environment": "",
    "environment_version": "2"
   },
   "inputWidgetPreferences": null,
   "language": "python",
   "notebookMetadata": {
    "mostRecentlyExecutedCommandWithImplicitDF": {
     "commandId": 1880719540159577,
     "dataframes": [
      "_sqldf"
     ]
    },
    "pythonIndentUnit": 2
   },
   "notebookName": "DAIS Demo Preventative Maintenance",
   "widgets": {}
  },
  "language_info": {
   "name": "python"
  }
 },
 "nbformat": 4,
 "nbformat_minor": 0
}

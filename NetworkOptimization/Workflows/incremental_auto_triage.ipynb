{
 "cells": [
  {
   "cell_type": "code",
   "execution_count": 0,
   "metadata": {
    "application/vnd.databricks.v1+cell": {
     "cellMetadata": {
      "byteLimit": 2048000,
      "rowLimit": 10000
     },
     "inputWidgets": {},
     "nuid": "644f8687-52cd-45aa-9b32-7b4c3947d59f",
     "showTitle": false,
     "tableResultSettingsMap": {},
     "title": ""
    }
   },
   "outputs": [],
   "source": [
    "from yaml import safe_load\n",
    "from pyspark.sql.functions import col, lit, concat\n",
    "\n",
    "with open('../params.yml', 'r') as f:\n",
    "    params = safe_load(f)\n",
    "\n",
    "CATALOG = params.get('data_params')['catalog']\n",
    "SCHEMA = params.get('data_params')['schema']\n",
    "\n",
    "df = (spark.read.option(\"readChangeData\", \"true\")\n",
    "      .option('startingVersion', '5')\n",
    "      .table(f\"{CATALOG}.{SCHEMA}.device_status_triage\"))\n",
    "\n",
    "df = df.withColumn('query_column', concat(col('device'), lit(' message: '), col('telemetry_error') ))\n",
    "\n",
    "display(df)\n"
   ]
  },
  {
   "cell_type": "code",
   "execution_count": 0,
   "metadata": {
    "application/vnd.databricks.v1+cell": {
     "cellMetadata": {
      "byteLimit": 2048000,
      "rowLimit": 10000
     },
     "inputWidgets": {},
     "nuid": "b956b340-0f9b-40d6-b0a6-6ae45ab535a3",
     "showTitle": false,
     "tableResultSettingsMap": {},
     "title": ""
    }
   },
   "outputs": [],
   "source": [
    "def query_agent(device_error):\n",
    "    prompt = make_prompt(device_error)\n",
    "    response = client.predict(\n",
    "        endpoint=\"ka-fce5e7c5-endpoint\",\n",
    "        inputs={\n",
    "            \"messages\": [{\"role\": \"user\", \"content\": prompt}],\n",
    "            \"databricks_options\": {\"return_trace\": True}\n",
    "        }\n",
    "    )\n",
    "    return response.get('messages', [{'content': 'No response'}])[0]['content']\n",
    "\n",
    "errorslist = df.select('query_column').toPandas().values.flatten().tolist()\n",
    "\n",
    "def make_prompt(device_error):\n",
    "    return f\"\"\"Please find an automated and remote fix for this device and error message: {device_error}. Be as concise as possible, preferably using fewer than 20 words. If such a solution exists without requiring human intervention, start the response with the phrase AUTOMATED FIX followed by a 1-sentence overview. If human intervention is necessary, start the response with the phrase HUMAN INTERVENTION REQUIRED and state a single phrase overview for the course of action needed.\n",
    "    \"\"\"\n",
    "    \n",
    "errorslist_solution = [make_prompt(x) for x in errorslist]"
   ]
  },
  {
   "cell_type": "code",
   "execution_count": 0,
   "metadata": {
    "application/vnd.databricks.v1+cell": {
     "cellMetadata": {
      "byteLimit": 2048000,
      "rowLimit": 10000
     },
     "inputWidgets": {},
     "nuid": "84108cd7-8138-4327-802b-ba3c1e6d137f",
     "showTitle": false,
     "tableResultSettingsMap": {},
     "title": ""
    }
   },
   "outputs": [],
   "source": [
    "from mlflow.deployments import get_deploy_client\n",
    "\n",
    "client = get_deploy_client(\"databricks\")\n",
    "response = client.predict(\n",
    "    endpoint=\"agents_telecommunications-self_healing_networks-vendor_manuals\",\n",
    "    inputs={\n",
    "        \"messages\": [{\"role\": \"user\", \"content\": x} for x in errorslist_solution],\n",
    "        \"temperature\": 0.2,\n",
    "        \"n\": 1,\n",
    "        \"max_tokens\": 500\n",
    "        }\n",
    "    \n",
    ")\n",
    "print(response)"
   ]
  },
  {
   "cell_type": "code",
   "execution_count": 0,
   "metadata": {
    "application/vnd.databricks.v1+cell": {
     "cellMetadata": {
      "byteLimit": 2048000,
      "rowLimit": 10000
     },
     "inputWidgets": {},
     "nuid": "39da9146-82b4-414a-aa18-c3d07fa94af3",
     "showTitle": false,
     "tableResultSettingsMap": {},
     "title": ""
    }
   },
   "outputs": [],
   "source": [
    "responselist = [x for x in response['messages'][-1]['content'].split('\\n') if x != ''][1:]\n",
    "devicelist = [responselist[i] for i in range(len(responselist)) if i % 2 == 0]\n",
    "responselist = [responselist[i] for i in range(len(responselist)) if i % 2 == 1]\n",
    "print(responselist)\n",
    "# df = df.withColumn('solution', lit(responselist))]"
   ]
  },
  {
   "cell_type": "code",
   "execution_count": 0,
   "metadata": {
    "application/vnd.databricks.v1+cell": {
     "cellMetadata": {
      "byteLimit": 2048000,
      "rowLimit": 10000
     },
     "inputWidgets": {},
     "nuid": "10af79d2-3b84-4bed-b26c-b15bbeb57a65",
     "showTitle": false,
     "tableResultSettingsMap": {},
     "title": ""
    }
   },
   "outputs": [],
   "source": [
    "from collections import OrderedDict\n",
    "import pandas as pd\n",
    "from pyspark.sql.functions import current_timestamp\n",
    "\n",
    "errorslist_dedupe = list(OrderedDict.fromkeys(errorslist))\n",
    "solutions_df = pd.DataFrame({'error_message': errorslist_dedupe, 'device_info': devicelist, 'solution': responselist})\n",
    "solutions_df = spark.createDataFrame(solutions_df)\n",
    "\n",
    "solved_df = df.join(solutions_df, df.query_column == solutions_df.error_message, how='left').select(['tower_id', 'device_id', 'device', 'solution']).withColumn('event_timestamp', current_timestamp())\n",
    "\n",
    "solved_df.write.mode('append').insertInto(f\"{CATALOG}.{SCHEMA}.triaged_devices\")"
   ]
  },
  {
   "cell_type": "code",
   "execution_count": 0,
   "metadata": {
    "application/vnd.databricks.v1+cell": {
     "cellMetadata": {
      "byteLimit": 2048000,
      "rowLimit": 10000
     },
     "inputWidgets": {},
     "nuid": "4e236b14-e779-404b-831a-95732654aafa",
     "showTitle": false,
     "tableResultSettingsMap": {},
     "title": ""
    }
   },
   "outputs": [],
   "source": []
  }
 ],
 "metadata": {
  "application/vnd.databricks.v1+notebook": {
   "computePreferences": null,
   "dashboards": [],
   "environmentMetadata": {
    "base_environment": "",
    "environment_version": "2"
   },
   "inputWidgetPreferences": null,
   "language": "python",
   "notebookMetadata": {
    "mostRecentlyExecutedCommandWithImplicitDF": {
     "commandId": 5363921745655507,
     "dataframes": [
      "_sqldf"
     ]
    },
    "pythonIndentUnit": 4
   },
   "notebookName": "incremental_auto_triage",
   "widgets": {}
  },
  "language_info": {
   "name": "python"
  }
 },
 "nbformat": 4,
 "nbformat_minor": 0
}

{
 "cells": [
  {
   "cell_type": "code",
   "execution_count": 0,
   "metadata": {
    "application/vnd.databricks.v1+cell": {
     "cellMetadata": {
      "byteLimit": 2048000,
      "rowLimit": 10000
     },
     "inputWidgets": {},
     "nuid": "64cb857e-fe3e-41a3-9020-f3a31086090f",
     "showTitle": false,
     "tableResultSettingsMap": {},
     "title": ""
    }
   },
   "outputs": [],
   "source": [
    "# Install required packages\n",
    "%pip install databricks-langchain databricks-vectorsearch\n",
    "dbutils.library.restartPython()\n"
   ]
  },
  {
   "cell_type": "code",
   "execution_count": 0,
   "metadata": {
    "application/vnd.databricks.v1+cell": {
     "cellMetadata": {
      "byteLimit": 2048000,
      "rowLimit": 10000
     },
     "inputWidgets": {},
     "nuid": "644f8687-52cd-45aa-9b32-7b4c3947d59f",
     "showTitle": false,
     "tableResultSettingsMap": {},
     "title": ""
    }
   },
   "outputs": [],
   "source": [
    "from yaml import safe_load\n",
    "from pyspark.sql.functions import col, lit, concat\n",
    "\n",
    "with open('../params.yml', 'r') as f:\n",
    "    params = safe_load(f)\n",
    "\n",
    "CATALOG = params.get('data_params')['catalog']\n",
    "SCHEMA = params.get('data_params')['schema']\n",
    "\n",
    "df = (spark.read.option(\"readChangeData\", \"true\")\n",
    "      .option('startingVersion', '1')\n",
    "      .table(f\"{CATALOG}.{SCHEMA}.device_status_triage\"))\n",
    "\n",
    "df = df.withColumn('query_column', concat(col('device'), lit(' message: '), col('telemetry_error') ))\n",
    "\n",
    "display(df)\n"
   ]
  },
  {
   "cell_type": "code",
   "execution_count": 0,
   "metadata": {
    "application/vnd.databricks.v1+cell": {
     "cellMetadata": {
      "byteLimit": 2048000,
      "rowLimit": 10000
     },
     "inputWidgets": {},
     "nuid": "4cf5dfe6-26dc-4982-b1e9-15c24770fdde",
     "showTitle": false,
     "tableResultSettingsMap": {},
     "title": ""
    }
   },
   "outputs": [],
   "source": [
    "from databricks.vector_search.client import VectorSearchClient\n",
    "\n",
    "# Connect to Vector Search API\n",
    "# token = \"<your_databricks_token>\"\n",
    "vector_search_client = VectorSearchClient()\n",
    "\n",
    "# Create or connect to a vector search index\n",
    "vs_index = vector_search_client.get_index(\n",
    "    index_name=f\"{CATALOG}.{SCHEMA}.shn_device_docs_vs\",\n",
    "    endpoint_name=\"one-env-shared-endpoint-9\"\n",
    ")\n",
    "\n",
    "# Define schema for the index\n",
    "vector_search_schema = {\n",
    "    \"primary_key\": \"chunk_id\",\n",
    "    \"chunk_text\": \"content_chunked\",\n",
    "    \"document_uri\": \"doc_uri\"\n",
    "}"
   ]
  },
  {
   "cell_type": "code",
   "execution_count": 0,
   "metadata": {
    "application/vnd.databricks.v1+cell": {
     "cellMetadata": {
      "byteLimit": 2048000,
      "rowLimit": 10000
     },
     "inputWidgets": {},
     "nuid": "c29a7b5c-d26f-43b1-9245-d1ac749f6a6f",
     "showTitle": false,
     "tableResultSettingsMap": {},
     "title": ""
    }
   },
   "outputs": [],
   "source": [
    "from databricks_langchain.vectorstores import DatabricksVectorSearch\n",
    "\n",
    "# Turn the index into a retriever\n",
    "vector_store = DatabricksVectorSearch(vs_index.name, \n",
    "                                    #   text_column=\"content_chunked\", \n",
    "                                      columns=[\"chunk_id\", \"content_chunked\", \"doc_uri\"]\n",
    "                                      ).as_retriever(search_kwargs={\"k\": 5})\n",
    "\n",
    "# Retrieve relevant documents\n",
    "query = \"Explain the expansion of the universe.\"\n",
    "retrieved_docs = vector_store.get_relevant_documents(query)\n",
    "for doc in retrieved_docs:\n",
    "    print(f\"Relevant document: {doc.metadata['doc_uri']} - {doc.page_content}\")"
   ]
  },
  {
   "cell_type": "code",
   "execution_count": 0,
   "metadata": {
    "application/vnd.databricks.v1+cell": {
     "cellMetadata": {
      "byteLimit": 2048000,
      "rowLimit": 10000
     },
     "inputWidgets": {},
     "nuid": "fe4aa604-249e-41ed-98a8-b2ceba06ab60",
     "showTitle": false,
     "tableResultSettingsMap": {},
     "title": ""
    }
   },
   "outputs": [],
   "source": [
    "def format_context(docs):\n",
    "    chunk_template = \"Passage: {chunk_text}\\n\"\n",
    "    return \"\\n\".join([\n",
    "        chunk_template.format(chunk_text=d.page_content)\n",
    "        for d in docs\n",
    "    ])\n",
    "\n",
    "retrieved_context = format_context(retrieved_docs)\n",
    "print(retrieved_context)"
   ]
  },
  {
   "cell_type": "code",
   "execution_count": 0,
   "metadata": {
    "application/vnd.databricks.v1+cell": {
     "cellMetadata": {
      "byteLimit": 2048000,
      "implicitDf": true,
      "rowLimit": 10000
     },
     "inputWidgets": {},
     "nuid": "cdc20865-a726-4ef5-9202-fa4a58ef5ede",
     "showTitle": false,
     "tableResultSettingsMap": {},
     "title": ""
    }
   },
   "outputs": [],
   "source": [
    "%sql\n",
    "select * from telco_demos.self_healing_networks.device_status_triage limit 1"
   ]
  },
  {
   "cell_type": "code",
   "execution_count": 0,
   "metadata": {
    "application/vnd.databricks.v1+cell": {
     "cellMetadata": {
      "byteLimit": 2048000,
      "rowLimit": 10000
     },
     "inputWidgets": {},
     "nuid": "97d5f2d5-3157-4a05-bc9c-fef84ea5b0ac",
     "showTitle": false,
     "tableResultSettingsMap": {},
     "title": ""
    }
   },
   "outputs": [],
   "source": [
    "from langchain_core.prompts import PromptTemplate\n",
    "from pyspark.sql.functions import pandas_udf\n",
    "from pyspark.sql.types import StringType\n",
    "\n",
    "question = \"Delta D750 DC Power System Message: Battery voltage below critical threshold at 10.8V triggering low power alarm.\"\n",
    "\n",
    "\n",
    "def process_text(question):\n",
    "\n",
    "    llm_prompt_template = PromptTemplate.from_template(\"\"\"\n",
    "        Please find an automated and remote fix for this device and error message: {question}. Be as concise as possible, preferably using fewer than 20 words. If such a solution exists without requiring human intervention, start the response with the phrase AUTOMATED FIX followed by a 1-sentence overview. If human intervention is necessary, start the response with the phrase HUMAN INTERVENTION REQUIRED and state a single phrase overview for the course of action needed.\n",
    "        Context: {retrieved_context}\n",
    "        Question: {question}\n",
    "    \"\"\")\n",
    "\n",
    "    \n",
    "    prompt = llm_prompt_template.format(retrieved_context=retrieved_context, question=question)\n",
    "\n",
    "    # Assuming you have an LLM endpoint configured\n",
    "    from databricks_langchain import ChatDatabricks\n",
    "\n",
    "    chat_model = ChatDatabricks(endpoint=\"databricks-llama-4-maverick\")\n",
    "    response = chat_model.invoke(prompt)\n",
    "    return response.content\n",
    "\n",
    "\n",
    "@pandas_udf('string')\n",
    "def process_text_pandas_udf(dataframe):\n",
    "    return dataframe.apply(process_text)"
   ]
  },
  {
   "cell_type": "code",
   "execution_count": 0,
   "metadata": {
    "application/vnd.databricks.v1+cell": {
     "cellMetadata": {
      "byteLimit": 2048000,
      "rowLimit": 10000
     },
     "inputWidgets": {},
     "nuid": "57071698-2212-4a68-b41d-fe1716d45920",
     "showTitle": false,
     "tableResultSettingsMap": {},
     "title": ""
    }
   },
   "outputs": [],
   "source": [
    "from pyspark.sql.functions import current_timestamp\n",
    "\n",
    "triage_df = df.withColumn('solution', process_text_pandas_udf('query_column')).select(['tower_id', 'device_id', 'device','solution']).withColumn('event_timestamp', current_timestamp())\n",
    "\n",
    "triage_df.display()"
   ]
  },
  {
   "cell_type": "code",
   "execution_count": 0,
   "metadata": {
    "application/vnd.databricks.v1+cell": {
     "cellMetadata": {
      "byteLimit": 2048000,
      "rowLimit": 10000
     },
     "inputWidgets": {},
     "nuid": "3c44c378-4aa5-4541-8624-d666a156ff78",
     "showTitle": false,
     "tableResultSettingsMap": {},
     "title": ""
    }
   },
   "outputs": [],
   "source": [
    "triage_df.write.mode('append').saveAsTable(f\"{CATALOG}.{SCHEMA}.triaged_devices\")"
   ]
  },
  {
   "cell_type": "code",
   "execution_count": 0,
   "metadata": {
    "application/vnd.databricks.v1+cell": {
     "cellMetadata": {
      "byteLimit": 2048000,
      "rowLimit": 10000
     },
     "inputWidgets": {},
     "nuid": "4e236b14-e779-404b-831a-95732654aafa",
     "showTitle": false,
     "tableResultSettingsMap": {},
     "title": ""
    }
   },
   "outputs": [],
   "source": []
  }
 ],
 "metadata": {
  "application/vnd.databricks.v1+notebook": {
   "computePreferences": null,
   "dashboards": [],
   "environmentMetadata": {
    "base_environment": "",
    "environment_version": "2"
   },
   "inputWidgetPreferences": null,
   "language": "python",
   "notebookMetadata": {
    "mostRecentlyExecutedCommandWithImplicitDF": {
     "commandId": 3054820919543146,
     "dataframes": [
      "_sqldf"
     ]
    },
    "pythonIndentUnit": 4
   },
   "notebookName": "incremental_auto_triage",
   "widgets": {}
  },
  "language_info": {
   "name": "python"
  }
 },
 "nbformat": 4,
 "nbformat_minor": 0
}

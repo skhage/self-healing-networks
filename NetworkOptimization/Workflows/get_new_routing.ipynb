{
 "cells": [
  {
   "cell_type": "code",
   "execution_count": 0,
   "metadata": {
    "application/vnd.databricks.v1+cell": {
     "cellMetadata": {
      "byteLimit": 2048000,
      "rowLimit": 10000
     },
     "inputWidgets": {},
     "nuid": "91109cd9-0de2-4f96-9aca-24bc9ca9a80f",
     "showTitle": false,
     "tableResultSettingsMap": {},
     "title": ""
    }
   },
   "outputs": [],
   "source": [
    "import pandas as pd\n",
    "from mlflow.deployments import get_deploy_client\n",
    "from yaml import safe_load\n",
    "from pyspark.sql.functions import col, concat, lit, when, udf\n",
    "import time \n",
    "from pyspark.sql import functions as F\n",
    "from pyspark.sql.types import DoubleType, StringType\n",
    "from pyspark.sql.window import Window\n",
    "import math\n",
    "\n",
    "with open('../params.yml', 'r') as f:\n",
    "    params = safe_load(f)\n",
    "CATALOG = params.get('data_params')['catalog']\n",
    "SCHEMA = params.get('data_params')['schema']"
   ]
  },
  {
   "cell_type": "code",
   "execution_count": 0,
   "metadata": {
    "application/vnd.databricks.v1+cell": {
     "cellMetadata": {
      "byteLimit": 2048000,
      "rowLimit": 10000
     },
     "inputWidgets": {},
     "nuid": "8e1ea9b8-d49c-49db-86dc-ad6c8966ab87",
     "showTitle": false,
     "tableResultSettingsMap": {},
     "title": ""
    }
   },
   "outputs": [],
   "source": [
    "towers = spark.table(f\"{CATALOG}.{SCHEMA}.sf_mobilelocations\").select(['tower_id', 'lat', 'lon'])\n",
    "triaged = (spark.read.option(\"readChangeData\", \"true\")\n",
    "      .option('startingVersion', '1').table(f\"{CATALOG}.{SCHEMA}.triaged_devices\")\n",
    ")\n",
    "\n",
    "triaged_latlon = triaged.join(towers, triaged.tower_id == towers.tower_id, how='left') \\\n",
    "            .select(triaged['*'], towers['lat'], towers['lon']).withColumnsRenamed({'lat': 'station_lat', 'lon': 'station_lon'})\n",
    "                  # withColumn('status', F.when(F.col('solution').startswith('AUTOMATED'), F.col('solution')).otherwise(')))\n",
    "\n",
    "display(triaged_latlon)"
   ]
  },
  {
   "cell_type": "code",
   "execution_count": 0,
   "metadata": {
    "application/vnd.databricks.v1+cell": {
     "cellMetadata": {
      "byteLimit": 2048000,
      "rowLimit": 10000
     },
     "inputWidgets": {},
     "nuid": "f69dfbc5-a55f-467d-adb7-90f948e5ff81",
     "showTitle": false,
     "tableResultSettingsMap": {},
     "title": ""
    }
   },
   "outputs": [],
   "source": [
    "# Haversine distance in kilometers\n",
    "def haversine(lat1, lon1, lat2, lon2):\n",
    "    R = 6371.0\n",
    "    phi1 = math.radians(lat1)\n",
    "    phi2 = math.radians(lat2)\n",
    "    dphi = math.radians(lat2 - lat1)\n",
    "    dlambda = math.radians(lon2 - lon1)\n",
    "    a = math.sin(dphi/2)**2 + math.cos(phi1)*math.cos(phi2)*math.sin(dlambda/2)**2\n",
    "    return R * 2 * math.atan2(math.sqrt(a), math.sqrt(1 - a))\n",
    "\n",
    "haversine_udf = F.udf(haversine, returnType=DoubleType())\n",
    "\n",
    "# Broadcast the small table\n",
    "df_small_b = F.broadcast(triaged_latlon)\n",
    "\n",
    "routes = spark.table(f\"{CATALOG}.{SCHEMA}.fieldtech_route\")\n",
    "max_date = routes.agg(F.max(\"date\").alias(\"max_date\")).collect()[0][\"max_date\"]\n",
    "routes = routes.filter((F.col(\"date\") == max_date) & (F.col(\"random_text\") != \"not scheduled\"))\n",
    " \n",
    "# Cross join and calculate distance\n",
    "joined = (routes.crossJoin(df_small_b) \n",
    "    .withColumn(\"distance_km\", haversine_udf(\n",
    "        F.col(\"lat\"), F.col(\"lon\"), F.col(\"station_lat\"), F.col(\"station_lon\")))\n",
    "    .filter(F.col('stop_number') < 10)\n",
    "    .withColumn('triage_timestamp', F.current_timestamp())\n",
    "    .select(['tower_id', 'device_id', 'device', 'solution','station_lat', 'station_lon', 'fieldtech_route.guid', 'fieldtech_route.name', 'fieldtech_route.stop_number', 'distance_km'])\n",
    ")\n",
    "\n",
    "solved_df = (joined.groupBy(['tower_id', 'device_id', 'device', 'guid', 'name', 'solution'])\n",
    "             .agg(F.min('distance_km').alias('distance_km'), F.min('station_lat').alias('lat'), F.min('station_lon').alias('lon'))\n",
    "             .withColumn('status', F.when(F.col('solution').startswith('AUTOMATED'), F.col('solution')).otherwise(F.concat(F.lit('Deploying Field Technician '), F.col('name'), lit(' with instruction '), F.col('solution'))))\n",
    "             .select(['tower_id', 'device_id', 'device', 'status']).withColumn('event_timestamp', F.current_timestamp())\n",
    ")\n",
    "\n",
    "solved_df.write.insertInto(f\"{CATALOG}.{SCHEMA}.device_status\")"
   ]
  },
  {
   "cell_type": "code",
   "execution_count": 0,
   "metadata": {
    "application/vnd.databricks.v1+cell": {
     "cellMetadata": {},
     "inputWidgets": {},
     "nuid": "6dfd9bcd-22fe-41b9-bb22-9eb5bc416c35",
     "showTitle": false,
     "tableResultSettingsMap": {},
     "title": ""
    }
   },
   "outputs": [],
   "source": []
  }
 ],
 "metadata": {
  "application/vnd.databricks.v1+notebook": {
   "computePreferences": null,
   "dashboards": [],
   "environmentMetadata": {
    "base_environment": "",
    "environment_version": "2"
   },
   "inputWidgetPreferences": null,
   "language": "python",
   "notebookMetadata": {
    "mostRecentlyExecutedCommandWithImplicitDF": {
     "commandId": 5363921745655591,
     "dataframes": [
      "_sqldf"
     ]
    },
    "pythonIndentUnit": 4
   },
   "notebookName": "get_new_routing",
   "widgets": {}
  },
  "language_info": {
   "name": "python"
  }
 },
 "nbformat": 4,
 "nbformat_minor": 0
}

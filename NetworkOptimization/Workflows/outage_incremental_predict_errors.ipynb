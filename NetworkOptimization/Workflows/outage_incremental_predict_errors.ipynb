{
 "cells": [
  {
   "cell_type": "code",
   "execution_count": 0,
   "metadata": {
    "application/vnd.databricks.v1+cell": {
     "cellMetadata": {
      "byteLimit": 2048000,
      "rowLimit": 10000
     },
     "inputWidgets": {},
     "nuid": "69c0faf5-06e3-4de5-af75-da5bbd6778e8",
     "showTitle": false,
     "tableResultSettingsMap": {},
     "title": ""
    }
   },
   "outputs": [],
   "source": [
    "from pyspark.sql.functions import concat, col, lit\n",
    "import mlflow\n",
    "from yaml import safe_load\n",
    "\n",
    "with open('../params.yml', 'r') as f:\n",
    "      params = safe_load(f)\n",
    "\n",
    "CATALOG = params.get('data_params')['catalog']\n",
    "SCHEMA = params.get('data_params')['schema']\n",
    "\n"
   ]
  },
  {
   "cell_type": "code",
   "execution_count": 0,
   "metadata": {
    "application/vnd.databricks.v1+cell": {
     "cellMetadata": {
      "byteLimit": 2048000,
      "rowLimit": 10000
     },
     "inputWidgets": {},
     "nuid": "2b6ff5d7-56b6-4b6a-a379-e26c87607cbc",
     "showTitle": false,
     "tableResultSettingsMap": {},
     "title": ""
    }
   },
   "outputs": [],
   "source": [
    "inc_status = (spark.read.option(\"readChangeData\", \"true\")\n",
    "      .option('startingVersion', '11')\n",
    "      .table(f\"{CATALOG}.{SCHEMA}.device_status\"))\n",
    "\n",
    "inc_status.createOrReplaceTempView(\"inc_status_view\")"
   ]
  },
  {
   "cell_type": "code",
   "execution_count": 0,
   "metadata": {
    "application/vnd.databricks.v1+cell": {
     "cellMetadata": {
      "byteLimit": 2048000,
      "implicitDf": true,
      "rowLimit": 10000
     },
     "inputWidgets": {},
     "nuid": "4c5d760f-a2f6-44b1-81b8-4d02d0a4227b",
     "showTitle": false,
     "tableResultSettingsMap": {},
     "title": ""
    }
   },
   "outputs": [],
   "source": [
    "triage_devices = spark.sql(\"\"\"\n",
    "    WITH tablestatuserrors AS (\n",
    "        SELECT *, \n",
    "               ai_query('databricks-claude-sonnet-4', \n",
    "                        CONCAT('what is a telemetry error for the following mobile tower device? Please be extremely concise and give only the example telemetry error, preferably 1 sentence max.', device)\n",
    "               ) AS telemetry_error \n",
    "        FROM inc_status_view \n",
    "        WHERE status = 'Telemetry Issue'\n",
    "    )\n",
    "    SELECT tower_id, device_id, device, status, event_timestamp, telemetry_error\n",
    "    FROM tablestatuserrors\n",
    "\"\"\")\n",
    "triage_devices.write.mode('append').insertInto(f\"{CATALOG}.{SCHEMA}.device_status_triage\")"
   ]
  },
  {
   "cell_type": "code",
   "execution_count": 0,
   "metadata": {
    "application/vnd.databricks.v1+cell": {
     "cellMetadata": {},
     "inputWidgets": {},
     "nuid": "271c206b-1213-4740-9411-1a242f9c4373",
     "showTitle": false,
     "tableResultSettingsMap": {},
     "title": ""
    }
   },
   "outputs": [],
   "source": []
  }
 ],
 "metadata": {
  "application/vnd.databricks.v1+notebook": {
   "computePreferences": null,
   "dashboards": [],
   "environmentMetadata": {
    "base_environment": "",
    "environment_version": "2"
   },
   "inputWidgetPreferences": null,
   "language": "python",
   "notebookMetadata": {
    "mostRecentlyExecutedCommandWithImplicitDF": {
     "commandId": -1,
     "dataframes": [
      "_sqldf"
     ]
    },
    "pythonIndentUnit": 4
   },
   "notebookName": "outage_incremental_predict_errors",
   "widgets": {}
  },
  "language_info": {
   "name": "python"
  }
 },
 "nbformat": 4,
 "nbformat_minor": 0
}

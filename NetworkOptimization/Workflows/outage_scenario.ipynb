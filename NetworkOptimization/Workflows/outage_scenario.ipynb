{
 "cells": [
  {
   "cell_type": "code",
   "execution_count": 0,
   "metadata": {
    "application/vnd.databricks.v1+cell": {
     "cellMetadata": {
      "byteLimit": 2048000,
      "rowLimit": 10000
     },
     "inputWidgets": {},
     "nuid": "683aa46a-f00d-40e6-8a98-1a6301031240",
     "showTitle": false,
     "tableResultSettingsMap": {},
     "title": ""
    }
   },
   "outputs": [],
   "source": [
    "import random\n",
    "from yaml import safe_load\n",
    "from pyspark.sql import functions as F\n",
    "\n",
    "with open('../params.yml', 'r') as f:\n",
    "  params = safe_load(f)\n",
    "\n",
    "CATALOG = params['data_params']['catalog']\n",
    "SCHEMA = params['data_params']['schema']\n"
   ]
  },
  {
   "cell_type": "code",
   "execution_count": 0,
   "metadata": {
    "application/vnd.databricks.v1+cell": {
     "cellMetadata": {
      "byteLimit": 2048000,
      "rowLimit": 10000
     },
     "inputWidgets": {},
     "nuid": "798dfb3e-85b7-41f6-8f82-e55fa74bdffa",
     "showTitle": false,
     "tableResultSettingsMap": {},
     "title": ""
    }
   },
   "outputs": [],
   "source": [
    "from pyspark.sql.functions import col, row_number, lit, current_timestamp, monotonically_increasing_id, rand, when\n",
    "from pyspark.sql.types import StringType\n",
    "from pyspark.sql.window import Window\n",
    "import random\n",
    "\n",
    "devices = spark.table(f\"{CATALOG}.{SCHEMA}.tower_devices\").select(['tower_id', 'device_id', 'device']).orderBy(rand())\n",
    "\n",
    "\n",
    "\n",
    "# Add a row number column to uniquely identify rows\n",
    "window_spec = Window.orderBy(monotonically_increasing_id())\n",
    "devices_with_row_num = devices.withColumn(\"row_num\", row_number().over(window_spec))\n",
    "\n",
    "# Randomly select between 3-25 rows to have 'Telemetry Issue'\n",
    "num_issues = random.randint(3, 25)\n",
    "\n",
    "print(num_issues)\n",
    "devices_with_status = devices_with_row_num.withColumn(\n",
    "    \"status\",\n",
    "    when(F.col(\"row_num\").between(1, num_issues), \"Telemetry Issue\").otherwise(\"System Online and Functioning\")\n",
    ").withColumn('event_timestamp', current_timestamp()).drop(\"row_num\")\n",
    "\n",
    "devices_with_status.display()\n",
    "devices_with_status.write.mode('append').insertInto(f\"{CATALOG}.{SCHEMA}.device_status\")\n"
   ]
  },
  {
   "cell_type": "code",
   "execution_count": 0,
   "metadata": {
    "application/vnd.databricks.v1+cell": {
     "cellMetadata": {
      "byteLimit": 2048000,
      "rowLimit": 10000
     },
     "inputWidgets": {},
     "nuid": "5c046ca2-97c6-4abc-bfce-1577cc79d0c2",
     "showTitle": false,
     "tableResultSettingsMap": {},
     "title": ""
    }
   },
   "outputs": [],
   "source": [
    "print(f\"{CATALOG}.{SCHEMA}.device_status\")"
   ]
  },
  {
   "cell_type": "code",
   "execution_count": 0,
   "metadata": {
    "application/vnd.databricks.v1+cell": {
     "cellMetadata": {},
     "inputWidgets": {},
     "nuid": "b5a45f61-c2e8-4fb0-a138-fed9cc915292",
     "showTitle": false,
     "tableResultSettingsMap": {},
     "title": ""
    }
   },
   "outputs": [],
   "source": []
  }
 ],
 "metadata": {
  "application/vnd.databricks.v1+notebook": {
   "computePreferences": null,
   "dashboards": [],
   "environmentMetadata": {
    "base_environment": "",
    "environment_version": "2"
   },
   "inputWidgetPreferences": null,
   "language": "python",
   "notebookMetadata": {
    "mostRecentlyExecutedCommandWithImplicitDF": {
     "commandId": -1,
     "dataframes": [
      "_sqldf"
     ]
    },
    "pythonIndentUnit": 4
   },
   "notebookName": "outage_scenario",
   "widgets": {}
  },
  "language_info": {
   "name": "python"
  }
 },
 "nbformat": 4,
 "nbformat_minor": 0
}

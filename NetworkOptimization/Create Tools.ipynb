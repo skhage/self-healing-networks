{
 "cells": [
  {
   "cell_type": "code",
   "execution_count": 0,
   "metadata": {
    "application/vnd.databricks.v1+cell": {
     "cellMetadata": {
      "byteLimit": 2048000,
      "implicitDf": true,
      "rowLimit": 10000
     },
     "inputWidgets": {},
     "nuid": "91653688-a195-4deb-9e0b-247326f0b754",
     "showTitle": false,
     "tableResultSettingsMap": {},
     "title": ""
    }
   },
   "outputs": [],
   "source": [
    "%sql\n",
    "create or replace function telecommunications.self_healing_networks.get_scenario()\n",
    "RETURNS STRING\n",
    "RETURN select scenarios from telecommunications.self_healing_networks.scenarios order by rand() limit 1"
   ]
  },
  {
   "cell_type": "code",
   "execution_count": 0,
   "metadata": {
    "application/vnd.databricks.v1+cell": {
     "cellMetadata": {
      "byteLimit": 2048000,
      "implicitDf": true,
      "rowLimit": 10000
     },
     "inputWidgets": {},
     "nuid": "6f896445-8e31-4322-9eeb-5c2ff0bf66c6",
     "showTitle": false,
     "tableResultSettingsMap": {},
     "title": ""
    }
   },
   "outputs": [],
   "source": [
    "%sql\n",
    "create or replace function telecommunications.self_healing_networks.get_tower_location()\n",
    "RETURNS TABLE (tower_id STRING, lat DOUBLE, lon DOUBLE, range INT)\n",
    "RETURN SELECT tower_id, lat, lon, range FROM telecommunications.self_healing_networks.sf_mobilelocations order by rand() limit 1"
   ]
  },
  {
   "cell_type": "code",
   "execution_count": 0,
   "metadata": {
    "application/vnd.databricks.v1+cell": {
     "cellMetadata": {
      "byteLimit": 2048000,
      "implicitDf": true,
      "rowLimit": 10000
     },
     "inputWidgets": {},
     "nuid": "1f3329c8-e027-4fd9-b226-a08984ab072e",
     "showTitle": false,
     "tableResultSettingsMap": {},
     "title": ""
    }
   },
   "outputs": [],
   "source": [
    "%sql\n",
    "create or replace function telecommunications.self_healing_networks.get_nearest_fieldtech(tech_lat DOUBLE, tech_lon DOUBLE)\n",
    "RETURNS TABLE (name STRING, stop_number INT, lat double, lon double, driving_distance double)\n",
    "return with min_distance as \n",
    "  (SELECT name, stop_number, lat, lon, ST_Distance(ST_Point(lon, lat), ST_Point(tech_lat, tech_lon)) AS driving_distance FROM telecommunications.self_healing_networks.fieldtech_route WHERE date = (select max(date) from telecommunications.self_healing_networks.fieldtech_route) and random_text <> 'not scheduled' )\n",
    "select * from min_distance where stop_number < 10 order by driving_distance asc limit 1\n",
    "\n",
    "-- %sql\n",
    "-- CREATE OR REPLACE FUNCTION telco_demos.self_healing_networks.get_nearest_fieldtech(tech_lat DOUBLE, tech_lon DOUBLE)\n",
    "-- RETURNS TABLE (name STRING, stop_number INT, date DATE, lat double, lon double, distance DOUBLE)\n",
    "-- return with fielddist as \n",
    "-- (SELECT *, SQRT(POW(lat - tech_lat, 2) + POW(lon - tech_lon, 2)) as distance \n",
    "-- FROM telco_demos.self_healing_networks.fieldtech_route \n",
    "-- WHERE date = current_date() and random_text <> 'not scheduled' )\n",
    "-- select name, stop_number, date, lat, lon, distance from fielddist where name = (select name from fielddist order by distance asc limit 1);\n"
   ]
  },
  {
   "cell_type": "code",
   "execution_count": 0,
   "metadata": {
    "application/vnd.databricks.v1+cell": {
     "cellMetadata": {
      "byteLimit": 2048000,
      "implicitDf": true,
      "rowLimit": 10000
     },
     "inputWidgets": {},
     "nuid": "908e0ca7-c6fd-4b3b-94ff-4703a66b1c1c",
     "showTitle": false,
     "tableResultSettingsMap": {},
     "title": ""
    }
   },
   "outputs": [],
   "source": [
    "%sql\n",
    "select * from telecommunications.self_healing_networks.get_nearest_fieldtech(-122.4046,\t37.779)"
   ]
  },
  {
   "cell_type": "code",
   "execution_count": 0,
   "metadata": {
    "application/vnd.databricks.v1+cell": {
     "cellMetadata": {},
     "inputWidgets": {},
     "nuid": "8a893858-2b22-448d-8d55-242a75774017",
     "showTitle": false,
     "tableResultSettingsMap": {},
     "title": ""
    }
   },
   "outputs": [],
   "source": []
  }
 ],
 "metadata": {
  "application/vnd.databricks.v1+notebook": {
   "computePreferences": null,
   "dashboards": [],
   "environmentMetadata": {
    "base_environment": "",
    "environment_version": "2"
   },
   "inputWidgetPreferences": null,
   "language": "python",
   "notebookMetadata": {
    "mostRecentlyExecutedCommandWithImplicitDF": {
     "commandId": 6135405527297938,
     "dataframes": [
      "_sqldf"
     ]
    },
    "pythonIndentUnit": 4
   },
   "notebookName": "Create Tools",
   "widgets": {}
  },
  "language_info": {
   "name": "python"
  }
 },
 "nbformat": 4,
 "nbformat_minor": 0
}

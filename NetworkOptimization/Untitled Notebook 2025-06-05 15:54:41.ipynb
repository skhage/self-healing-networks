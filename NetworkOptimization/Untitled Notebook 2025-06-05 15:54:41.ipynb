{
 "cells": [
  {
   "cell_type": "code",
   "execution_count": 0,
   "metadata": {
    "application/vnd.databricks.v1+cell": {
     "cellMetadata": {
      "byteLimit": 2048000,
      "rowLimit": 10000
     },
     "inputWidgets": {},
     "nuid": "6a2c3cdf-bb0c-46ed-8fb6-6215cb44464f",
     "showTitle": false,
     "tableResultSettingsMap": {},
     "title": ""
    }
   },
   "outputs": [],
   "source": [
    "import mlflow\n",
    "from mlflow.deployments import get_deploy_client\n",
    "client = get_deploy_client(\"databricks\")\n"
   ]
  },
  {
   "cell_type": "code",
   "execution_count": 0,
   "metadata": {
    "application/vnd.databricks.v1+cell": {
     "cellMetadata": {
      "byteLimit": 2048000,
      "rowLimit": 10000
     },
     "inputWidgets": {},
     "nuid": "b5e5af35-432f-4d38-af9d-ba0135c456b6",
     "showTitle": false,
     "tableResultSettingsMap": {},
     "title": ""
    }
   },
   "outputs": [],
   "source": [
    "response = client.predict(\n",
    "    endpoint=\"ka-fce5e7c5-endpoint\",\n",
    "    inputs={\n",
    "        \"messages\": [{\"role\": \"user\", \"content\": 'testing battery'}],\n",
    "        \"databricks_options\": {\"return_trace\": True}\n",
    "    }\n",
    ")\n",
    "response"
   ]
  },
  {
   "cell_type": "code",
   "execution_count": 0,
   "metadata": {
    "application/vnd.databricks.v1+cell": {
     "cellMetadata": {
      "byteLimit": 2048000,
      "rowLimit": 10000
     },
     "inputWidgets": {},
     "nuid": "0b18df82-dae3-4674-aa97-7c1ed7bf91f9",
     "showTitle": false,
     "tableResultSettingsMap": {},
     "title": ""
    }
   },
   "outputs": [],
   "source": [
    "import os\n",
    "import requests\n",
    "import numpy as np\n",
    "import pandas as pd\n",
    "import json\n",
    "\n",
    "def create_tf_serving_json(data):\n",
    "    return {'inputs': {name: data[name].tolist() for name in data.keys()} if isinstance(data, dict) else data.tolist()}\n",
    "\n",
    "def score_model(dataset):\n",
    "    url = 'https://db-dais-2025.cloud.databricks.com/serving-endpoints/agents_telecommunications-self_healing_networks-vendor_manuals/invocations'\n",
    "    headers = {'Authorization': f'Bearer {os.environ.get(\"DATABRICKS_TOKEN\")}', 'Content-Type': 'application/json'}\n",
    "    ds_dict = {'dataframe_split': dataset.to_dict(orient='split')} if isinstance(dataset, pd.DataFrame) else create_tf_serving_json(dataset)\n",
    "    data_json = json.dumps(ds_dict, allow_nan=True)\n",
    "    response = requests.request(method='POST', headers=headers, url=url, data=data_json)\n",
    "    if response.status_code != 200:\n",
    "        raise Exception(f'Request failed with status {response.status_code}, {response.text}')\n",
    "    return response.json()"
   ]
  },
  {
   "cell_type": "code",
   "execution_count": 0,
   "metadata": {
    "application/vnd.databricks.v1+cell": {
     "cellMetadata": {
      "byteLimit": 2048000,
      "rowLimit": 10000
     },
     "inputWidgets": {},
     "nuid": "8686b45d-6896-48c9-bebb-3e93739882f3",
     "showTitle": false,
     "tableResultSettingsMap": {},
     "title": ""
    }
   },
   "outputs": [],
   "source": [
    "testdf = pd.DataFrame({'request': ['testing123'], 'id': [1]})\n",
    "\n",
    "score_model(testdf)"
   ]
  },
  {
   "cell_type": "code",
   "execution_count": 0,
   "metadata": {
    "application/vnd.databricks.v1+cell": {
     "cellMetadata": {
      "byteLimit": 2048000,
      "rowLimit": 10000
     },
     "inputWidgets": {},
     "nuid": "4c92064c-8135-4bb6-adc0-e90229c76c5e",
     "showTitle": false,
     "tableResultSettingsMap": {},
     "title": ""
    }
   },
   "outputs": [],
   "source": [
    "import mlflow.deployments\n",
    "from yaml import safe_load\n",
    "from pyspark.sql.functions import concat, lit, col\n",
    "\n",
    "with open(\"./params.yml\", \"r\") as f:\n",
    "    params = safe_load(f)\n",
    "\n",
    "CATALOG = params.get('data_params').get('catalog')\n",
    "SCHEMA = params.get('data_params').get('schema')\n",
    "df = spark.table(f\"{CATALOG}.{SCHEMA}.device_status_triage\").withColumn('query_column', concat(col('device'), lit(' message: '), col('telemetry_error') ))\n",
    "\n",
    "def make_prompt(device_error):\n",
    "    return f\"\"\"Please find an automated and remote fix for this device and error message: {device_error}. Be as concise as possible, preferably using fewer than 20 words. If such a solution exists without requiring human intervention, start the response with the phrase AUTOMATED FIX followed by a 1-sentence overview. If human intervention is necessary, start the response with the phrase HUMAN INTERVENTION REQUIRED and state a single phrase overview for the course of action needed.\n",
    "    \"\"\"\n",
    "\n",
    "errorslist = df.select('query_column').toPandas().values.flatten().tolist()\n",
    "errorslist_solution = [make_prompt(x) for x in errorslist]\n",
    "\n",
    "\n",
    "client = mlflow.deployments.get_deploy_client(\"databricks\")\n",
    "response = client.predict(\n",
    "    endpoint=\"agents_telecommunications-self_healing_networks-vendor_manuals\",\n",
    "    inputs={\n",
    "        \"messages\": [{\"role\": \"user\", \"content\": x} for x in errorslist_solution],\n",
    "        \"temperature\": 0.2,\n",
    "        \"n\": 1,\n",
    "        \"max_tokens\": 500,\n",
    "        \"databricks_options\": {\n",
    "            \"return_trace\": True,\n",
    "        }\n",
    "    }\n",
    ")\n",
    "print(response)"
   ]
  },
  {
   "cell_type": "code",
   "execution_count": 0,
   "metadata": {
    "application/vnd.databricks.v1+cell": {
     "cellMetadata": {
      "byteLimit": 2048000,
      "rowLimit": 10000
     },
     "inputWidgets": {},
     "nuid": "a2002fc8-f420-46e1-95de-957a2f45e8f0",
     "showTitle": false,
     "tableResultSettingsMap": {},
     "title": ""
    }
   },
   "outputs": [],
   "source": [
    "responses = response['predictions']\n",
    "\n",
    "parsed_responses = []\n",
    "for res in responses:\n",
    "    content = res['content']\n",
    "    if content.startswith(\"AUTOMATED FIX\"):\n",
    "        parsed_responses.append({\"type\": \"automated\", \"message\": content})\n",
    "    elif content.startswith(\"HUMAN INTERVENTION REQUIRED\"):\n",
    "        parsed_responses.append({\"type\": \"human\", \"message\": content})\n",
    "    else:\n",
    "        parsed_responses.append({\"type\": \"unknown\", \"message\": content})\n",
    "\n",
    "display(parsed_responses)"
   ]
  },
  {
   "cell_type": "code",
   "execution_count": 0,
   "metadata": {
    "application/vnd.databricks.v1+cell": {
     "cellMetadata": {
      "byteLimit": 2048000,
      "rowLimit": 10000
     },
     "inputWidgets": {},
     "nuid": "9efcbcf0-b465-4b9a-8911-b5b0b18c30b6",
     "showTitle": false,
     "tableResultSettingsMap": {},
     "title": ""
    }
   },
   "outputs": [],
   "source": [
    "for i in range(len(response.get('messages'))):\n",
    "    print(response.get('messages')[i].get('content'))"
   ]
  },
  {
   "cell_type": "code",
   "execution_count": 0,
   "metadata": {
    "application/vnd.databricks.v1+cell": {
     "cellMetadata": {
      "byteLimit": 2048000,
      "rowLimit": 10000
     },
     "inputWidgets": {},
     "nuid": "c05028a1-e1c9-464b-b1b9-4ca5d01f03b9",
     "showTitle": false,
     "tableResultSettingsMap": {},
     "title": ""
    }
   },
   "outputs": [],
   "source": [
    "response.get('messages')[-1].get('content')"
   ]
  },
  {
   "cell_type": "code",
   "execution_count": 0,
   "metadata": {
    "application/vnd.databricks.v1+cell": {
     "cellMetadata": {
      "byteLimit": 2048000,
      "implicitDf": true,
      "rowLimit": 10000
     },
     "inputWidgets": {},
     "nuid": "d46890f8-7052-4109-b345-caef4ccc5d48",
     "showTitle": false,
     "tableResultSettingsMap": {},
     "title": ""
    }
   },
   "outputs": [],
   "source": [
    "%sql\n",
    "insert into telecommunications.self_healing_networks.device_status values (\n",
    "'47d52e21-8173-4371-b5e6-4b39481d2225', \t'550495e3-0620-4ed0-9622-51b819bf5596',\t'Nokia AirScale Baseband Unit', \t'Automated Fix',\t'2025-06-05T19:58:34.637+00:00'),\n",
    "('3672293f-d942-4701-a148-882f1047f9e5',\t'0defdc16-9bf5-43c3-b58f-9a925cd0830d',\t'Delta D750 DC Power System',\t'Automated Fix',\t'2025-06-05T19:58:34.637+00:00'\n",
    ")"
   ]
  },
  {
   "cell_type": "code",
   "execution_count": 0,
   "metadata": {
    "application/vnd.databricks.v1+cell": {
     "cellMetadata": {},
     "inputWidgets": {},
     "nuid": "3bae9dd1-426d-4882-bc97-de5c7beb8713",
     "showTitle": false,
     "tableResultSettingsMap": {},
     "title": ""
    }
   },
   "outputs": [],
   "source": []
  }
 ],
 "metadata": {
  "application/vnd.databricks.v1+notebook": {
   "computePreferences": null,
   "dashboards": [],
   "environmentMetadata": {
    "base_environment": "",
    "environment_version": "2"
   },
   "inputWidgetPreferences": null,
   "language": "python",
   "notebookMetadata": {
    "mostRecentlyExecutedCommandWithImplicitDF": {
     "commandId": 6923349358319283,
     "dataframes": [
      "_sqldf"
     ]
    },
    "pythonIndentUnit": 4
   },
   "notebookName": "Untitled Notebook 2025-06-05 15:54:41",
   "widgets": {}
  },
  "language_info": {
   "name": "python"
  }
 },
 "nbformat": 4,
 "nbformat_minor": 0
}

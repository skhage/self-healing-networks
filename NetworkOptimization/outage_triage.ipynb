{
 "cells": [
  {
   "cell_type": "code",
   "execution_count": 0,
   "metadata": {
    "application/vnd.databricks.v1+cell": {
     "cellMetadata": {
      "byteLimit": 2048000,
      "rowLimit": 10000
     },
     "inputWidgets": {},
     "nuid": "f76efc2f-14ef-4884-ad52-4ce74b8b48bb",
     "showTitle": false,
     "tableResultSettingsMap": {},
     "title": ""
    }
   },
   "outputs": [],
   "source": [
    "import pandas as pd\n",
    "from mlflow.deployments import get_deploy_client\n",
    "from yaml import safe_load\n",
    "from pyspark.sql.functions import col, concat, lit, when, udf\n",
    "import time \n",
    "from pyspark.sql import functions as F\n",
    "from pyspark.sql.types import DoubleType, StringType\n",
    "from pyspark.sql.window import Window\n",
    "import math\n",
    "\n",
    "\n",
    "with open(\"../params.yml\", \"r\") as f:\n",
    "    params = safe_load(f)\n",
    "\n",
    "CATALOG = params.get('data_params').get('catalog')\n",
    "SCHEMA = params.get('data_params').get('schema')\n",
    "\n",
    "client = get_deploy_client(\"databricks\")\n",
    "\n",
    "def make_prompt(device_error):\n",
    "    return f\"\"\"Please find an automated and remote fix for this device and error message: {device_error}. Be as concise as possible, preferably using fewer than 20 words. If such a solution exists without requiring human intervention, start the response with the phrase AUTOMATED FIX followed by a 1-sentence overview. If human intervention is necessary, start the response with the phrase HUMAN INTERVENTION REQUIRED and state a single phrase overview for the course of action needed.\n",
    "    \"\"\"\n",
    "\n",
    "pred_content = make_prompt('Delta D750 DC Power System, telemetry message Battery voltage below critical threshold at 10.8V triggering low power alarm')\n",
    "# response = client.predict(\n",
    "#     endpoint=\"ka-fce5e7c5-endpoint\",\n",
    "#     inputs={\n",
    "#         \"messages\": [{\"role\": \"user\", \"content\": pred_content}],\n",
    "#         \"databricks_options\": {\"return_trace\": True}\n",
    "#     }\n",
    "# )\n",
    "# response\n"
   ]
  },
  {
   "cell_type": "code",
   "execution_count": 0,
   "metadata": {
    "application/vnd.databricks.v1+cell": {
     "cellMetadata": {
      "byteLimit": 2048000,
      "rowLimit": 10000
     },
     "inputWidgets": {},
     "nuid": "efbf1e25-0ea9-4e60-8f0d-ff3033fffc18",
     "showTitle": false,
     "tableResultSettingsMap": {},
     "title": ""
    }
   },
   "outputs": [],
   "source": [
    "df = spark.table(f\"{CATALOG}.{SCHEMA}.device_status_triage\").withColumn('query_column', concat(col('device'), lit(' message: '), col('telemetry_error') ))\n",
    "\n",
    "\n",
    "def query_agent(device_error):\n",
    "    prompt = make_prompt(device_error)\n",
    "    response = client.predict(\n",
    "        endpoint=\"ka-fce5e7c5-endpoint\",\n",
    "        inputs={\n",
    "            \"messages\": [{\"role\": \"user\", \"content\": prompt}],\n",
    "            \"databricks_options\": {\"return_trace\": True}\n",
    "        }\n",
    "    )\n",
    "    return response.get('messages', [{'content': 'No response'}])[0]['content']\n",
    "\n",
    "errorslist = df.select('query_column').toPandas().values.flatten().tolist()\n",
    "\n",
    "errorslist_solution = [make_prompt(x) for x in errorslist]\n",
    "# errorslist_solution = [client.predict(endpoint='ka-fce5e7c5-endpoint', inputs={'messages': [{'role': 'user', 'content': x}]}) for x in errorslist_solution]\n",
    "print(errorslist_solution)\n",
    "# query_agent_udf = udf(query_agent, StringType())\n",
    "# df = df.withColumn('agent_response', query_agent_udf(col('query_column')))\n",
    "# df = df.withColumn('prompt', make_prompt_udf(col('query_column')))\n",
    "# display(df)\n"
   ]
  },
  {
   "cell_type": "code",
   "execution_count": 0,
   "metadata": {
    "application/vnd.databricks.v1+cell": {
     "cellMetadata": {
      "byteLimit": 2048000,
      "rowLimit": 10000
     },
     "inputWidgets": {},
     "nuid": "0ee06c16-c936-4394-b81b-3a394746ebb9",
     "showTitle": false,
     "tableResultSettingsMap": {},
     "title": ""
    }
   },
   "outputs": [],
   "source": [
    "def query_agent(msg):\n",
    "    time.sleep(15)\n",
    "    response = client.predict(\n",
    "    endpoint=\"ka-fce5e7c5-endpoint\",\n",
    "    inputs={\n",
    "        \"messages\": [{\"role\": \"user\", \"content\": msg}],\n",
    "        \"databricks_options\": {\"return_trace\": True}\n",
    "    }\n",
    ")\n",
    "    return response.get('choices')[0].get('message').get('content')#.split('[')[0]\n",
    "\n",
    "solutions = [query_agent(error) for error in errorslist_solution]"
   ]
  },
  {
   "cell_type": "code",
   "execution_count": 0,
   "metadata": {
    "application/vnd.databricks.v1+cell": {
     "cellMetadata": {
      "byteLimit": 2048000,
      "rowLimit": 10000
     },
     "inputWidgets": {},
     "nuid": "c837546c-44b7-4b85-96d1-1d7323f3e34f",
     "showTitle": false,
     "tableResultSettingsMap": {},
     "title": ""
    }
   },
   "outputs": [],
   "source": [
    "\n",
    "df = df.withColumn('solutions', lit(None))\n",
    "\n",
    "for i, solution in enumerate(solutions):\n",
    "    df = df.withColumn('solutions', when(col('query_column') == errorslist[i], solution).otherwise(col('solutions')))\n",
    "\n",
    "display(df)"
   ]
  },
  {
   "cell_type": "code",
   "execution_count": 0,
   "metadata": {
    "application/vnd.databricks.v1+cell": {
     "cellMetadata": {
      "byteLimit": 2048000,
      "rowLimit": 10000
     },
     "inputWidgets": {},
     "nuid": "69512364-a59e-4987-8e49-6a6ce3884557",
     "showTitle": false,
     "tableResultSettingsMap": {},
     "title": ""
    }
   },
   "outputs": [],
   "source": [
    "towers = spark.table(f\"{CATALOG}.{SCHEMA}.sf_mobilelocations\").select(['tower_id', 'lat', 'lon'])\n",
    "\n",
    "df_latlon = df.join(towers, df.tower_id == towers.tower_id, how='left').withColumnsRenamed({'lat': 'station_lat', 'lon': 'station_lon'}) \\\n",
    "            .select(F.col('`telecommunications`.`self_healing_networks`.`sf_mobilelocations`.`tower_id`'), F.col('`telecommunications`.`self_healing_networks`.`device_status_triage`.`device_id`'), F.col('`telecommunications`.`self_healing_networks`.`device_status_triage`.`device`'), F.col('solutions'), F.col('station_lat'), F.col('station_lon'))\n",
    "            \n",
    "\n",
    "display(df_latlon)\n"
   ]
  },
  {
   "cell_type": "code",
   "execution_count": 0,
   "metadata": {
    "application/vnd.databricks.v1+cell": {
     "cellMetadata": {
      "byteLimit": 2048000,
      "rowLimit": 10000
     },
     "inputWidgets": {},
     "nuid": "1007278d-b60f-48f1-9bd4-0f39a833b5be",
     "showTitle": false,
     "tableResultSettingsMap": {},
     "title": ""
    }
   },
   "outputs": [],
   "source": [
    "\n",
    "\n",
    "# Haversine distance in kilometers\n",
    "def haversine(lat1, lon1, lat2, lon2):\n",
    "    R = 6371.0\n",
    "    phi1 = math.radians(lat1)\n",
    "    phi2 = math.radians(lat2)\n",
    "    dphi = math.radians(lat2 - lat1)\n",
    "    dlambda = math.radians(lon2 - lon1)\n",
    "    a = math.sin(dphi/2)**2 + math.cos(phi1)*math.cos(phi2)*math.sin(dlambda/2)**2\n",
    "    return R * 2 * math.atan2(math.sqrt(a), math.sqrt(1 - a))\n",
    "\n",
    "haversine_udf = F.udf(haversine, returnType=DoubleType())\n",
    "\n",
    "# Broadcast the small table\n",
    "df_small_b = F.broadcast(df_latlon)\n",
    "\n",
    "routes = spark.table(f\"{CATALOG}.{SCHEMA}.fieldtech_route\")\n",
    "max_date = routes.agg(F.max(\"date\").alias(\"max_date\")).collect()[0][\"max_date\"]\n",
    "routes = routes.filter((F.col(\"date\") == max_date) & (F.col(\"random_text\") != \"not scheduled\"))\n",
    " \n",
    "# Cross join and calculate distance\n",
    "joined = routes.crossJoin(df_small_b) \\\n",
    "    .withColumn(\"distance_km\", haversine_udf(\n",
    "        F.col(\"lat\"), F.col(\"lon\"), F.col(\"station_lat\"), F.col(\"station_lon\")\n",
    "    )).withColumn('triage_timestamp', F.current_timestamp()) \n",
    "    \n",
    "    # result = joined.select(\n",
    "    # [F.col(f\"left.{c}\") for c in df_large.columns] "
   ]
  },
  {
   "cell_type": "code",
   "execution_count": 0,
   "metadata": {
    "application/vnd.databricks.v1+cell": {
     "cellMetadata": {
      "byteLimit": 2048000,
      "rowLimit": 10000
     },
     "inputWidgets": {},
     "nuid": "90f2e82b-e798-4312-adc8-c075d5d630ad",
     "showTitle": false,
     "tableResultSettingsMap": {},
     "title": ""
    }
   },
   "outputs": [],
   "source": [
    "status_update = joined.withColumn(\n",
    "    \"status\",\n",
    "    F.when(F.col(\"solutions\").startswith(\"HUMAN INTERVENTION REQUIRED\"), F.concat(F.lit(\"Fix in progress: routing \"), F.col(\"name\"), F.lit(\" to the site\")))\n",
    "    .otherwise(\"Automatically triaged\")\n",
    ").withColumn('triage_timestamp', F.current_timestamp()).select(['tower_id', 'device_id', 'device', 'status', 'triage_timestamp']).withColumnRenamed('triage_timestamp', 'event_timestamp')\n",
    "\n",
    "status_update.write.mode(\"append\").saveAsTable(f\"{CATALOG}.{SCHEMA}.device_status\")\n",
    "# ['tower_id', 'device_id', 'device', 'status', 'event_timestamp']"
   ]
  },
  {
   "cell_type": "code",
   "execution_count": 0,
   "metadata": {
    "application/vnd.databricks.v1+cell": {
     "cellMetadata": {},
     "inputWidgets": {},
     "nuid": "f8fa87b5-927c-4343-95af-9c2e98f8e325",
     "showTitle": false,
     "tableResultSettingsMap": {},
     "title": ""
    }
   },
   "outputs": [],
   "source": []
  }
 ],
 "metadata": {
  "application/vnd.databricks.v1+notebook": {
   "computePreferences": null,
   "dashboards": [],
   "environmentMetadata": {
    "base_environment": "",
    "environment_version": "2"
   },
   "inputWidgetPreferences": null,
   "language": "python",
   "notebookMetadata": {
    "mostRecentlyExecutedCommandWithImplicitDF": {
     "commandId": 6923349358319145,
     "dataframes": [
      "_sqldf"
     ]
    },
    "pythonIndentUnit": 4
   },
   "notebookName": "outage_triage",
   "widgets": {}
  },
  "language_info": {
   "name": "python"
  }
 },
 "nbformat": 4,
 "nbformat_minor": 0
}
